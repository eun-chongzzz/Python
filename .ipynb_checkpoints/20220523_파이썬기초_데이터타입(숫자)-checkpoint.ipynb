{
 "cells": [
  {
   "cell_type": "markdown",
   "id": "b0efe01c",
   "metadata": {},
   "source": [
    "# 데이터 타입\n",
    "\n",
    "## > 숫자형\n",
    "- 종류\n",
    "    - 정수 : 0, 양수, 음수인 숫자\n",
    "    - 실수 : 소수점을 포함하는 숫자\n",
    "    - 8진수 : 0o 또는 00(왼쪽 숫자0, 오른쪽 알파벳o) 으로 시작 : 0o34, 0o5\n",
    "    - 16진수 (0x로시작) : 0x2A, 0xFF"
   ]
  },
  {
   "cell_type": "markdown",
   "id": "729562b3",
   "metadata": {},
   "source": [
    "## 정수형"
   ]
  },
  {
   "cell_type": "code",
   "execution_count": 1,
   "id": "8379b676",
   "metadata": {},
   "outputs": [],
   "source": [
    "# 양수, 음수, 0\n",
    "a = 1\n",
    "b = -20\n",
    "c = 0"
   ]
  },
  {
   "cell_type": "code",
   "execution_count": 5,
   "id": "f66da2c6",
   "metadata": {},
   "outputs": [
    {
     "name": "stdout",
     "output_type": "stream",
     "text": [
      "<class 'int'> <class 'int'> <class 'int'>\n"
     ]
    }
   ],
   "source": [
    "# 정수 타입 : 타입(데이터)를 확인하는 내장함수 type()\n",
    "type(a)\n",
    "type(b)\n",
    "print(type(a), type(b), type(c)) "
   ]
  },
  {
   "cell_type": "markdown",
   "id": "9c4e1044",
   "metadata": {},
   "source": [
    "# 실수형"
   ]
  },
  {
   "cell_type": "code",
   "execution_count": 7,
   "id": "df7f0013",
   "metadata": {},
   "outputs": [],
   "source": [
    "# 양의 실수, 음의 실수, : float\n",
    "a = 1.3\n",
    "b = -2.4\n",
    "c = 0.0"
   ]
  },
  {
   "cell_type": "code",
   "execution_count": 8,
   "id": "b85b095e",
   "metadata": {},
   "outputs": [
    {
     "name": "stdout",
     "output_type": "stream",
     "text": [
      "<class 'float'> <class 'float'> <class 'float'>\n"
     ]
    }
   ],
   "source": [
    "# 타입 확인\n",
    "print(type(a), type(b), type(c))"
   ]
  },
  {
   "cell_type": "markdown",
   "id": "aa065f3a",
   "metadata": {},
   "source": [
    "## > 연산자\n",
    "- 산술 : +, -, *, /, //(몫), %(나머지), **(제곱)\n",
    "- 비교 : ==(값이 같은지), !=(값이 다른지), <=, >=, <, >\n",
    "- 논리 : and, or\n",
    "- 할당 : =, +=(누적합), -=(누적차), *=(누적곱), /=(몫만 남기기), %=(나머지만 남기기)"
   ]
  },
  {
   "cell_type": "markdown",
   "id": "9532d039",
   "metadata": {},
   "source": [
    "### 1) 산술연산자 : 숫자를 계산하기 위한 문법 기호"
   ]
  },
  {
   "cell_type": "code",
   "execution_count": 11,
   "id": "4d2b40df",
   "metadata": {},
   "outputs": [
    {
     "data": {
      "text/plain": [
       "13.4"
      ]
     },
     "execution_count": 11,
     "metadata": {},
     "output_type": "execute_result"
    }
   ],
   "source": [
    "# 더하기 : +\n",
    "10 + 3 # 정수 + 정수 => 정수로 출력\n",
    "13.3 + 2.4 # 실수 + 실수 => 실수\n",
    "10 + 3.4 # 정수 + 실수 => 실수"
   ]
  },
  {
   "cell_type": "code",
   "execution_count": 13,
   "id": "d08a472f",
   "metadata": {},
   "outputs": [
    {
     "data": {
      "text/plain": [
       "-4.7"
      ]
     },
     "execution_count": 13,
     "metadata": {},
     "output_type": "execute_result"
    }
   ],
   "source": [
    "# 빼기 : -\n",
    "10 - 3\n",
    "3 - 7.7"
   ]
  },
  {
   "cell_type": "code",
   "execution_count": 16,
   "id": "cb4eb2fa",
   "metadata": {},
   "outputs": [
    {
     "data": {
      "text/plain": [
       "2.0"
      ]
     },
     "execution_count": 16,
     "metadata": {},
     "output_type": "execute_result"
    }
   ],
   "source": [
    "# 나누기 : /\n",
    "# 나누기 결과는 정수 / 정수 여도 실수로 간주됨\n",
    "3 / 3\n",
    "7 / 2\n",
    "5 / 2.5"
   ]
  },
  {
   "cell_type": "code",
   "execution_count": 20,
   "id": "f6f0bcce",
   "metadata": {},
   "outputs": [
    {
     "data": {
      "text/plain": [
       "-5"
      ]
     },
     "execution_count": 20,
     "metadata": {},
     "output_type": "execute_result"
    }
   ],
   "source": [
    "# 곱하기 : *\n",
    "3 * 4\n",
    "-3 * 5\n",
    "(3 - 4) * 5"
   ]
  },
  {
   "cell_type": "code",
   "execution_count": 21,
   "id": "349cbc4c",
   "metadata": {},
   "outputs": [
    {
     "data": {
      "text/plain": [
       "-2"
      ]
     },
     "execution_count": 21,
     "metadata": {},
     "output_type": "execute_result"
    }
   ],
   "source": [
    "# 정수 몫만 반환 : // \n",
    "# 나눗셈의 결과값보다 작은 정수 중에 가장 큰 정수\n",
    "# 음수\n",
    "-5 // 4"
   ]
  },
  {
   "cell_type": "code",
   "execution_count": 22,
   "id": "2f953778",
   "metadata": {},
   "outputs": [
    {
     "data": {
      "text/plain": [
       "1"
      ]
     },
     "execution_count": 22,
     "metadata": {},
     "output_type": "execute_result"
    }
   ],
   "source": [
    "# 양수\n",
    "4 // 3"
   ]
  },
  {
   "cell_type": "code",
   "execution_count": 23,
   "id": "27b309dd",
   "metadata": {},
   "outputs": [
    {
     "data": {
      "text/plain": [
       "3"
      ]
     },
     "execution_count": 23,
     "metadata": {},
     "output_type": "execute_result"
    }
   ],
   "source": [
    "# 정수 몫을 구하고 남은 나머지만 반환 : %\n",
    "3 % 4"
   ]
  },
  {
   "cell_type": "code",
   "execution_count": 25,
   "id": "17511bad",
   "metadata": {},
   "outputs": [
    {
     "data": {
      "text/plain": [
       "1.4142135623730951"
      ]
     },
     "execution_count": 25,
     "metadata": {},
     "output_type": "execute_result"
    }
   ],
   "source": [
    "# 지수 : **\n",
    "2 ** 3\n",
    "2 ** 0.5"
   ]
  },
  {
   "cell_type": "markdown",
   "id": "1c8ff0a5",
   "metadata": {},
   "source": [
    "### 2) 비교연산자 : 자료를 비교하기 위한 문법 기호\n",
    "    - 결과가 숫자가 아닌 bool type의 결과를 가진다\n",
    "    \n",
    "> #### bool type\n",
    "    - True : 0이 아닌 숫자, 참인 조건식 등\n",
    "    - False : 0, 거짓인 조건식 등\n",
    "- 값에 대한 비교 : ==, !=\n",
    "- 크기에 대한 비교 : >, <, >=, <="
   ]
  },
  {
   "cell_type": "code",
   "execution_count": 27,
   "id": "6897283b",
   "metadata": {},
   "outputs": [
    {
     "data": {
      "text/plain": [
       "False"
      ]
     },
     "execution_count": 27,
     "metadata": {},
     "output_type": "execute_result"
    }
   ],
   "source": [
    "# 두 값이 같은지 비교 : ==\n",
    "# (결과) 두 값이 값으면 True, 두 값이 다르면 False\n",
    "0 == 0.0\n",
    "type(0) == type(0.0)"
   ]
  },
  {
   "cell_type": "code",
   "execution_count": 28,
   "id": "9e574e95",
   "metadata": {},
   "outputs": [
    {
     "data": {
      "text/plain": [
       "True"
      ]
     },
     "execution_count": 28,
     "metadata": {},
     "output_type": "execute_result"
    }
   ],
   "source": [
    "# 두 값이 다른지 비교 : !=\n",
    "# 두 값이 다르면 True, 같으면 False\n",
    "type(0) != type(0.0)"
   ]
  },
  {
   "cell_type": "code",
   "execution_count": 29,
   "id": "dcc945e4",
   "metadata": {},
   "outputs": [
    {
     "data": {
      "text/plain": [
       "True"
      ]
     },
     "execution_count": 29,
     "metadata": {},
     "output_type": "execute_result"
    }
   ],
   "source": [
    "# 두 값의 크기를 비교 : >=, <=, <, >\n",
    "10 >= 3"
   ]
  },
  {
   "cell_type": "markdown",
   "id": "12e22c70",
   "metadata": {},
   "source": [
    "### 3) 논리연산자\n",
    "    - 여러개의 조건식을 활용하기 위한 명령어\n",
    "    - bool type 결과 반환 : True, False"
   ]
  },
  {
   "cell_type": "code",
   "execution_count": 32,
   "id": "de286207",
   "metadata": {},
   "outputs": [
    {
     "data": {
      "text/plain": [
       "True"
      ]
     },
     "execution_count": 32,
     "metadata": {},
     "output_type": "execute_result"
    }
   ],
   "source": [
    "# and 연산자 : 조건식1 and 조건식2\n",
    "# 조건식1과 조건식2가 모두 True 라면 최종결과도 True\n",
    "# 둘 중 하나만 False여도 최종결과는 Fales\n",
    "# 둘 다 False라면 최종결과는 False\n",
    "10 < 12 # True\n",
    "0 > -3 # True\n",
    "10 < 12 and 0 > -3 # True"
   ]
  },
  {
   "cell_type": "code",
   "execution_count": 37,
   "id": "746fd706",
   "metadata": {},
   "outputs": [
    {
     "data": {
      "text/plain": [
       "False"
      ]
     },
     "execution_count": 37,
     "metadata": {},
     "output_type": "execute_result"
    }
   ],
   "source": [
    "# 숫자 0은 False, 이외의 모든 숫자는 True\n",
    "# bool(자료) 는 자료의 참, 거짓을 판단해줍니다.\n",
    "bool(0)"
   ]
  },
  {
   "cell_type": "code",
   "execution_count": 40,
   "id": "92fafaf4",
   "metadata": {},
   "outputs": [
    {
     "data": {
      "text/plain": [
       "False"
      ]
     },
     "execution_count": 40,
     "metadata": {},
     "output_type": "execute_result"
    }
   ],
   "source": [
    "# 0이 False로 사용되는 예시\n",
    "bool(0 and 10 > 3) # 0 -> False, 10 > 3 -> True => and 연산자의 결과 : False"
   ]
  },
  {
   "cell_type": "code",
   "execution_count": 41,
   "id": "324af3fb",
   "metadata": {},
   "outputs": [
    {
     "data": {
      "text/plain": [
       "True"
      ]
     },
     "execution_count": 41,
     "metadata": {},
     "output_type": "execute_result"
    }
   ],
   "source": [
    "# or 연산자\n",
    "# 조건식1 or 조건식2\n",
    "# 둘 중 하나만 True여도 최종결과 True\n",
    "# 둘 다 False일 때 최종결과 False\n",
    "bool(0 or 10 > 3)"
   ]
  },
  {
   "cell_type": "markdown",
   "id": "013257e7",
   "metadata": {},
   "source": [
    "#### 4) 할당연산자\n",
    "\n",
    "- 변수 할당\n",
    "- 누적 연산"
   ]
  },
  {
   "cell_type": "code",
   "execution_count": 43,
   "id": "a9a4023e",
   "metadata": {},
   "outputs": [],
   "source": [
    "# 변수명(왼쪽)에 변수값(오른쪽)을 할당/선언/저장/대입 : =\n",
    "x = 10"
   ]
  },
  {
   "cell_type": "code",
   "execution_count": 44,
   "id": "745db0cd",
   "metadata": {},
   "outputs": [
    {
     "data": {
      "text/plain": [
       "10"
      ]
     },
     "execution_count": 44,
     "metadata": {},
     "output_type": "execute_result"
    }
   ],
   "source": [
    "# 숫자형의 누적함 +=\n",
    "# result 라는 변수에 누적합을 저장하기\n",
    "result = 0\n",
    "# result에 x만큼 더해서 저장하기 위해 원래 사용하던 코드\n",
    "result += x #result = result + x\n",
    "result"
   ]
  },
  {
   "cell_type": "code",
   "execution_count": 47,
   "id": "191fd316",
   "metadata": {},
   "outputs": [
    {
     "name": "stdout",
     "output_type": "stream",
     "text": [
      "55\n"
     ]
    }
   ],
   "source": [
    "# 1 ~ 10까지 누적합을 구해보세요 : 1 + 2 + 3 + 4 + 5 + 6 + 7 + 8 + 9 + 10\n",
    "result = 0\n",
    "# 반복문을 이용해 result변수에 1~0까지 누적해 더하는 코드\n",
    "for i in range(1, 11):\n",
    "    result += i\n",
    "print(result)"
   ]
  },
  {
   "cell_type": "code",
   "execution_count": 49,
   "id": "a599e7ea",
   "metadata": {},
   "outputs": [
    {
     "data": {
      "text/plain": [
       "54"
      ]
     },
     "execution_count": 49,
     "metadata": {},
     "output_type": "execute_result"
    }
   ],
   "source": [
    "# 숫자형의 누적 차 \n",
    "result -= 1\n",
    "result"
   ]
  },
  {
   "cell_type": "code",
   "execution_count": 50,
   "id": "c4938803",
   "metadata": {},
   "outputs": [
    {
     "data": {
      "text/plain": [
       "108"
      ]
     },
     "execution_count": 50,
     "metadata": {},
     "output_type": "execute_result"
    }
   ],
   "source": [
    "# 누적 곱\n",
    "result *= 2\n",
    "result"
   ]
  },
  {
   "cell_type": "markdown",
   "id": "1b3feb2a",
   "metadata": {},
   "source": [
    "### 1. 홍길동의 시험 성적 평균을 구하세요\n",
    "    | 영어 80점 | 국어 72점 | 수학 90점 | 사회 66점 |\n",
    "\n",
    "* 변수를 사용해서 과목의 평균을 구해보세요.\n",
    "* 출력 양식 : <br>\n",
    "총합 308 <br>\n",
    "평균 77 <br>"
   ]
  },
  {
   "cell_type": "markdown",
   "id": "7d900584",
   "metadata": {},
   "source": [
    "### 2. 반지름이 7인 원의 넓이를 구해주세요\n",
    "\n",
    "(참고) 원 넓이 = (반지름)"
   ]
  },
  {
   "cell_type": "markdown",
   "id": "4fbd41f0",
   "metadata": {},
   "source": [
    "### 3. 여러분들이 "
   ]
  },
  {
   "cell_type": "code",
   "execution_count": null,
   "id": "eb6578cb",
   "metadata": {},
   "outputs": [],
   "source": []
  }
 ],
 "metadata": {
  "kernelspec": {
   "display_name": "Python 3",
   "language": "python",
   "name": "python3"
  },
  "language_info": {
   "codemirror_mode": {
    "name": "ipython",
    "version": 3
   },
   "file_extension": ".py",
   "mimetype": "text/x-python",
   "name": "python",
   "nbconvert_exporter": "python",
   "pygments_lexer": "ipython3",
   "version": "3.8.8"
  }
 },
 "nbformat": 4,
 "nbformat_minor": 5
}
