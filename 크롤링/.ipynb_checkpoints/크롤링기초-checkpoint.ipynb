{
 "cells": [
  {
   "cell_type": "markdown",
   "id": "2814211d",
   "metadata": {},
   "source": [
    "### 크롤링\n",
    "\n",
    "- 웹에서 원하는 자료를 컴퓨터에게 수집해오도록 명령내리는 기술\n",
    "- requests 라이브러리를 활용한 다이렉트 크롤링\n",
    "- selenium 라이브러리를 활용한 간접 크롤링 등이 있다.\n",
    "- 크롤러의 역할은 원하는 정보를 가져오는것 까지이며\n",
    "- 실제 원하는 정보를 용도에 맞게 가공하는것은 beautifulsoup가 담당한다."
   ]
  },
  {
   "cell_type": "code",
   "execution_count": 2,
   "id": "ee016031",
   "metadata": {
    "scrolled": true
   },
   "outputs": [],
   "source": [
    "# 크롤링 작업을 위한 라이브러리 임포트\n",
    "from bs4 import BeautifulSoup\n",
    "import requests\n",
    "from selenium import webdriver"
   ]
  },
  {
   "cell_type": "markdown",
   "id": "9484f218",
   "metadata": {},
   "source": [
    "# selenium 설치\n",
    "\n",
    "1. Anaconda Navigator의 좌측 Environments 클릭\n",
    "2. 가운데 base(root) 사이에 있는 ▶ 클릭 후 open terminal 클릭\n",
    "3. 나온 cmd창에서 pip install selenium 입력 후 다운 완료되면 껏다 켜기"
   ]
  },
  {
   "cell_type": "markdown",
   "id": "eeb8687a",
   "metadata": {},
   "source": [
    "# 크롬드라이버 다운받기\n",
    "\n",
    "1. 크롬창 우측 상단 메뉴 클릭 \n",
    "2. 밑에서 두 번째에 있는 \"도움말\" 항목에 마우스 갖다대기\n",
    "3. Chrome정보 클릭하기\n",
    "4. Chrome정보에 나온 버전(강사 컴퓨터는 현재 크롬 101버전 사용중) 확인하기\n",
    "5. https://chromedriver.chromium.org/downloads\n",
    "   위 주소로 접속해서 버전에 맞는 다운로드 링크로 가기\n",
    "6. chromedriver zip파일 받아서 내부 chromedriver.exe파일에 대한 압축을 주피터노트북 코드가 있는 쪽에 풀기\n",
    "   (window -> win32, 리눅스 맥 등은 맞는버전으로)\n"
   ]
  },
  {
   "cell_type": "code",
   "execution_count": 3,
   "id": "36a281ea",
   "metadata": {},
   "outputs": [
    {
     "name": "stderr",
     "output_type": "stream",
     "text": [
      "<ipython-input-3-9c9a77b3cbfd>:1: DeprecationWarning: executable_path has been deprecated, please pass in a Service object\n",
      "  browser= webdriver.Chrome('chromedriver.exe')\n"
     ]
    }
   ],
   "source": [
    " browser= webdriver.Chrome('chromedriver.exe')"
   ]
  },
  {
   "cell_type": "code",
   "execution_count": null,
   "id": "1ec69cb4",
   "metadata": {},
   "outputs": [],
   "source": []
  },
  {
   "cell_type": "code",
   "execution_count": null,
   "id": "5f55f683",
   "metadata": {},
   "outputs": [],
   "source": []
  },
  {
   "cell_type": "code",
   "execution_count": null,
   "id": "8ba5a428",
   "metadata": {},
   "outputs": [],
   "source": []
  },
  {
   "cell_type": "code",
   "execution_count": null,
   "id": "bbd7b70a",
   "metadata": {},
   "outputs": [],
   "source": []
  },
  {
   "cell_type": "code",
   "execution_count": null,
   "id": "f450e6ec",
   "metadata": {},
   "outputs": [],
   "source": []
  },
  {
   "cell_type": "code",
   "execution_count": null,
   "id": "2f4132ec",
   "metadata": {},
   "outputs": [],
   "source": []
  }
 ],
 "metadata": {
  "kernelspec": {
   "display_name": "Python 3",
   "language": "python",
   "name": "python3"
  },
  "language_info": {
   "codemirror_mode": {
    "name": "ipython",
    "version": 3
   },
   "file_extension": ".py",
   "mimetype": "text/x-python",
   "name": "python",
   "nbconvert_exporter": "python",
   "pygments_lexer": "ipython3",
   "version": "3.8.8"
  }
 },
 "nbformat": 4,
 "nbformat_minor": 5
}
