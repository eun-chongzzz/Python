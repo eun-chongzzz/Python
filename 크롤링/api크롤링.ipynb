{
 "cells": [
  {
   "cell_type": "markdown",
   "id": "29b492fb",
   "metadata": {},
   "source": [
    "# 영진위 api 크롤링\n",
    "\n",
    "http://kobis.or.kr/kobisopenapi/webservice/rest/boxoffice/searchDailyBoxOfficeList.json?key=f5eef3421c602c6cb7ea224104795888&targetDt=20120101\n",
    "<br>\n",
    "위 주소를 보면 파라미터로 <br>\n",
    "key와 targetDt가 있는걸 볼 수 있습니다.<br>\n",
    "<br>\n",
    "<br>\n",
    "여기서 key는 회원가입을 하면 발급해주는 개인 식별용 키입니다.<br>\n",
    "키를 발급해주는 이유는 일일 요청 횟수를 제한해서 서버 메모리를 절약하기 위함입니다.<br>\n",
    "<br><br>\n",
    "targetDt는 타겟 날짜로, 현재 이 api 요청 주소는 일일 박스오피스 입니다.\n",
    "\n",
    "<br>\n",
    "<br>\n",
    "api서버 접근시 파이썬에서는 보통 urllib.request를 활용합니다."
   ]
  },
  {
   "cell_type": "code",
   "execution_count": 2,
   "id": "51384f3a",
   "metadata": {},
   "outputs": [],
   "source": [
    "# 사이트에 자료 요청용 라이브러리 임포트\n",
    "import urllib.request\n",
    "# json데이터 핸들링용\n",
    "import json\n",
    "import xml"
   ]
  },
  {
   "cell_type": "code",
   "execution_count": 10,
   "id": "3ee70847",
   "metadata": {},
   "outputs": [
    {
     "name": "stdout",
     "output_type": "stream",
     "text": [
      "http://kobis.or.kr/kobisopenapi/webservice/rest/boxoffice/searchDailyBoxOfficeList.json?key=f5eef3421c602c6cb7ea224104795888&targetDt=20090101\n"
     ]
    }
   ],
   "source": [
    "# 요청 주소의 파라미터는 다 분리해서 포매팅형식으로 관리하면 효율적입니다.\n",
    "key = \"f5eef3421c602c6cb7ea224104795888\"\n",
    "target_dt = \"20090101\"\n",
    "request_url = \"http://kobis.or.kr/kobisopenapi/webservice/rest/\\\n",
    "boxoffice/searchDailyBoxOfficeList.json?key=%s&targetDt=%s\" % (key, target_dt)\n",
    "print(request_url)"
   ]
  },
  {
   "cell_type": "code",
   "execution_count": 11,
   "id": "8dd709ea",
   "metadata": {},
   "outputs": [],
   "source": [
    "# 위에 세팅된 주소로 요청을 넣어보겠습니다.\n",
    "result = urllib.request.urlopen(request_url)"
   ]
  },
  {
   "cell_type": "code",
   "execution_count": 12,
   "id": "fc430b20",
   "metadata": {},
   "outputs": [
    {
     "data": {
      "text/plain": [
       "<http.client.HTTPResponse at 0x20ae6105fd0>"
      ]
     },
     "execution_count": 12,
     "metadata": {},
     "output_type": "execute_result"
    }
   ],
   "source": [
    "# 결과물은 http.client.httpresponse 객체로 주어집니다.\n",
    "result"
   ]
  },
  {
   "cell_type": "code",
   "execution_count": 13,
   "id": "d6533bb7",
   "metadata": {},
   "outputs": [],
   "source": [
    "# 얻어진 데이터의 json만 뽑기위해 .read()를 사용합니다.\n",
    "json_raw = result.read()"
   ]
  },
  {
   "cell_type": "code",
   "execution_count": 21,
   "id": "8a3d0b72",
   "metadata": {},
   "outputs": [
    {
     "name": "stdout",
     "output_type": "stream",
     "text": [
      "<class 'bytes'>\n"
     ]
    }
   ],
   "source": [
    "#byte 자료형임을 확인\n",
    "print(type(json_raw))"
   ]
  },
  {
   "cell_type": "code",
   "execution_count": 22,
   "id": "5c60eb99",
   "metadata": {},
   "outputs": [],
   "source": [
    "# 형식을 한글을 쓸 수 있는 utf-8형식으로 고쳐야 합니다. 변형 -> encode(), 복원 -> decode()\n",
    "# encode => 우리가 쓰는 문자를 컴퓨터가 쓰는 형태로 변환\n",
    "# decode => 컴퓨터가 쓰는 문자를 우리가 쓰는 형태로 변환\n",
    "json_utf8 = json_raw.decode(\"utf-8\")"
   ]
  },
  {
   "cell_type": "code",
   "execution_count": 26,
   "id": "c9c2150b",
   "metadata": {},
   "outputs": [
    {
     "data": {
      "text/plain": [
       "str"
      ]
     },
     "execution_count": 26,
     "metadata": {},
     "output_type": "execute_result"
    }
   ],
   "source": [
    "type(json_utf8)"
   ]
  },
  {
   "cell_type": "code",
   "execution_count": 27,
   "id": "096a41e8",
   "metadata": {},
   "outputs": [
    {
     "data": {
      "text/plain": [
       "{'boxOfficeResult': {'boxofficeType': '일별 박스오피스',\n",
       "  'showRange': '20090101~20090101',\n",
       "  'dailyBoxOfficeList': [{'rnum': '1',\n",
       "    'rank': '1',\n",
       "    'rankInten': '0',\n",
       "    'rankOldAndNew': 'OLD',\n",
       "    'movieCd': '20081716',\n",
       "    'movieNm': '쌍화점',\n",
       "    'openDt': '2008-12-30',\n",
       "    'salesAmt': '2196203500',\n",
       "    'salesShare': '30.4',\n",
       "    'salesInten': '541452500',\n",
       "    'salesChange': '32.7',\n",
       "    'salesAcc': '5114204500',\n",
       "    'audiCnt': '312889',\n",
       "    'audiInten': '59337',\n",
       "    'audiChange': '23.4',\n",
       "    'audiAcc': '765449',\n",
       "    'scrnCnt': '517',\n",
       "    'showCnt': '2709'},\n",
       "   {'rnum': '2',\n",
       "    'rank': '2',\n",
       "    'rankInten': '0',\n",
       "    'rankOldAndNew': 'OLD',\n",
       "    'movieCd': '20081672',\n",
       "    'movieNm': '과속스캔들',\n",
       "    'openDt': '2008-12-03',\n",
       "    'salesAmt': '1685018500',\n",
       "    'salesShare': '23.3',\n",
       "    'salesInten': '667249500',\n",
       "    'salesChange': '65.6',\n",
       "    'salesAcc': '30191898000',\n",
       "    'audiCnt': '248492',\n",
       "    'audiInten': '89635',\n",
       "    'audiChange': '56.4',\n",
       "    'audiAcc': '4610001',\n",
       "    'scrnCnt': '367',\n",
       "    'showCnt': '2092'},\n",
       "   {'rnum': '3',\n",
       "    'rank': '3',\n",
       "    'rankInten': '0',\n",
       "    'rankOldAndNew': 'OLD',\n",
       "    'movieCd': '20081744',\n",
       "    'movieNm': '볼트',\n",
       "    'openDt': '2008-12-31',\n",
       "    'salesAmt': '900528000',\n",
       "    'salesShare': '12.5',\n",
       "    'salesInten': '496384500',\n",
       "    'salesChange': '122.8',\n",
       "    'salesAcc': '1342030500',\n",
       "    'audiCnt': '129991',\n",
       "    'audiInten': '67440',\n",
       "    'audiChange': '107.8',\n",
       "    'audiAcc': '198058',\n",
       "    'scrnCnt': '310',\n",
       "    'showCnt': '1615'},\n",
       "   {'rnum': '4',\n",
       "    'rank': '4',\n",
       "    'rankInten': '1',\n",
       "    'rankOldAndNew': 'OLD',\n",
       "    'movieCd': '20081723',\n",
       "    'movieNm': '지구가 멈추는 날',\n",
       "    'openDt': '2008-12-24',\n",
       "    'salesAmt': '591894500',\n",
       "    'salesShare': '8.2',\n",
       "    'salesInten': '295203000',\n",
       "    'salesChange': '99.5',\n",
       "    'salesAcc': '9174078000',\n",
       "    'audiCnt': '86753',\n",
       "    'audiInten': '40574',\n",
       "    'audiChange': '87.9',\n",
       "    'audiAcc': '1393821',\n",
       "    'scrnCnt': '313',\n",
       "    'showCnt': '1668'},\n",
       "   {'rnum': '5',\n",
       "    'rank': '5',\n",
       "    'rankInten': '2',\n",
       "    'rankOldAndNew': 'OLD',\n",
       "    'movieCd': '20081696',\n",
       "    'movieNm': '잃어버린 세계를 찾아서',\n",
       "    'openDt': '2008-12-17',\n",
       "    'salesAmt': '550110000',\n",
       "    'salesShare': '7.6',\n",
       "    'salesInten': '318704500',\n",
       "    'salesChange': '137.7',\n",
       "    'salesAcc': '7575364500',\n",
       "    'audiCnt': '84548',\n",
       "    'audiInten': '47200',\n",
       "    'audiChange': '126.4',\n",
       "    'audiAcc': '1164463',\n",
       "    'scrnCnt': '266',\n",
       "    'showCnt': '1245'},\n",
       "   {'rnum': '6',\n",
       "    'rank': '6',\n",
       "    'rankInten': '0',\n",
       "    'rankOldAndNew': 'OLD',\n",
       "    'movieCd': '20081686',\n",
       "    'movieNm': '벼랑 위의 포뇨',\n",
       "    'openDt': '2008-12-17',\n",
       "    'salesAmt': '459699000',\n",
       "    'salesShare': '6.4',\n",
       "    'salesInten': '229575000',\n",
       "    'salesChange': '99.8',\n",
       "    'salesAcc': '7516175500',\n",
       "    'audiCnt': '71299',\n",
       "    'audiInten': '33105',\n",
       "    'audiChange': '86.7',\n",
       "    'audiAcc': '1189145',\n",
       "    'scrnCnt': '299',\n",
       "    'showCnt': '1123'},\n",
       "   {'rnum': '7',\n",
       "    'rank': '7',\n",
       "    'rankInten': '-3',\n",
       "    'rankOldAndNew': 'OLD',\n",
       "    'movieCd': '20081703',\n",
       "    'movieNm': '예스맨',\n",
       "    'openDt': '2008-12-17',\n",
       "    'salesAmt': '484117000',\n",
       "    'salesShare': '6.7',\n",
       "    'salesInten': '158550500',\n",
       "    'salesChange': '48.7',\n",
       "    'salesAcc': '5878156500',\n",
       "    'audiCnt': '70198',\n",
       "    'audiInten': '19652',\n",
       "    'audiChange': '38.9',\n",
       "    'audiAcc': '888802',\n",
       "    'scrnCnt': '223',\n",
       "    'showCnt': '894'},\n",
       "   {'rnum': '8',\n",
       "    'rank': '8',\n",
       "    'rankInten': '0',\n",
       "    'rankOldAndNew': 'OLD',\n",
       "    'movieCd': '20081697',\n",
       "    'movieNm': '트와일라잇',\n",
       "    'openDt': '2008-12-10',\n",
       "    'salesAmt': '78037000',\n",
       "    'salesShare': '1.1',\n",
       "    'salesInten': '13730000',\n",
       "    'salesChange': '21.4',\n",
       "    'salesAcc': '8447959000',\n",
       "    'audiCnt': '11677',\n",
       "    'audiInten': '1245',\n",
       "    'audiChange': '11.9',\n",
       "    'audiAcc': '1304009',\n",
       "    'scrnCnt': '91',\n",
       "    'showCnt': '270'},\n",
       "   {'rnum': '9',\n",
       "    'rank': '9',\n",
       "    'rankInten': '0',\n",
       "    'rankOldAndNew': 'NEW',\n",
       "    'movieCd': '20081809',\n",
       "    'movieNm': '트랜스포터-라스트 미션',\n",
       "    'openDt': '2009-01-08',\n",
       "    'salesAmt': '46296000',\n",
       "    'salesShare': '0.6',\n",
       "    'salesInten': '46296000',\n",
       "    'salesChange': '100',\n",
       "    'salesAcc': '46296000',\n",
       "    'audiCnt': '11574',\n",
       "    'audiInten': '11574',\n",
       "    'audiChange': '100',\n",
       "    'audiAcc': '11574',\n",
       "    'scrnCnt': '16',\n",
       "    'showCnt': '58'},\n",
       "   {'rnum': '10',\n",
       "    'rank': '10',\n",
       "    'rankInten': '-1',\n",
       "    'rankOldAndNew': 'OLD',\n",
       "    'movieCd': '20081673',\n",
       "    'movieNm': '오스트레일리아',\n",
       "    'openDt': '2008-12-10',\n",
       "    'salesAmt': '70338000',\n",
       "    'salesShare': '1.0',\n",
       "    'salesInten': '34164500',\n",
       "    'salesChange': '94.4',\n",
       "    'salesAcc': '6187855000',\n",
       "    'audiCnt': '10360',\n",
       "    'audiInten': '4620',\n",
       "    'audiChange': '80.5',\n",
       "    'audiAcc': '955427',\n",
       "    'scrnCnt': '92',\n",
       "    'showCnt': '165'}]}}"
      ]
     },
     "execution_count": 27,
     "metadata": {},
     "output_type": "execute_result"
    }
   ],
   "source": [
    "# json.loads(딕셔너리 형태의 문자열)\n",
    "# json(딕셔너리) 형태로 적힌 문자열 자료를 딕셔너리로 변환\n",
    "json.loads(json_utf8)"
   ]
  },
  {
   "cell_type": "code",
   "execution_count": null,
   "id": "955b4521",
   "metadata": {},
   "outputs": [],
   "source": []
  },
  {
   "cell_type": "code",
   "execution_count": null,
   "id": "67ae8b71",
   "metadata": {},
   "outputs": [],
   "source": []
  },
  {
   "cell_type": "code",
   "execution_count": null,
   "id": "b5ca005f",
   "metadata": {},
   "outputs": [],
   "source": []
  }
 ],
 "metadata": {
  "kernelspec": {
   "display_name": "Python 3 (ipykernel)",
   "language": "python",
   "name": "python3"
  },
  "language_info": {
   "codemirror_mode": {
    "name": "ipython",
    "version": 3
   },
   "file_extension": ".py",
   "mimetype": "text/x-python",
   "name": "python",
   "nbconvert_exporter": "python",
   "pygments_lexer": "ipython3",
   "version": "3.9.12"
  }
 },
 "nbformat": 4,
 "nbformat_minor": 5
}
