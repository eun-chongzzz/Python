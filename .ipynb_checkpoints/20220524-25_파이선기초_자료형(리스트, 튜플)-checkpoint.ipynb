{
 "cells": [
  {
   "cell_type": "markdown",
   "id": "14a8c4d8",
   "metadata": {},
   "source": [
    "# 자료형\n",
    "\n",
    "여러 개의 아이템들을 저장하는 객체 = 여러 개의 값(데이터타입)을 저장하는 그릇\n",
    "\n",
    "## 1. 리스트(List)\n",
    "\n",
    "▶ 문법 기호 : [아이템1, 아이템2, 아이템3 .... ]\n",
    "\n",
    "\n",
    "▶ 용어 : 아이템 = 요소\n",
    "\n",
    "\n",
    "▶ 아이템으로 가질 수 있는 데이터 타입 : 문자, 숫자, 리스트, 딕셔너리 ...\n",
    "\n",
    "\n",
    "▶ 종류\n",
    "\n",
    "     * 아이템이 없는 리스트\n",
    "    \n",
    "     * 1차원 리스트\n",
    "    \n",
    "     * 다차원 리스트 \n",
    "    \n",
    "    \n",
    "▶ 특징\n",
    "\n",
    "     * 인덱스 활용\n",
    "    \n",
    "     * 다차원 리스트의 구조에 대한 이해"
   ]
  },
  {
   "cell_type": "markdown",
   "id": "fa9412f9",
   "metadata": {},
   "source": [
    "### 1. 생성하기"
   ]
  },
  {
   "cell_type": "code",
   "execution_count": 1,
   "id": "25a44cc3",
   "metadata": {},
   "outputs": [
    {
     "name": "stdout",
     "output_type": "stream",
     "text": [
      "<class 'list'> <class 'list'>\n",
      "[] []\n"
     ]
    }
   ],
   "source": [
    "# 빈 리스트 생성하기 = 아이템이 없는 리스트\n",
    "# 문법기호 : []\n",
    "# 함수 : list\n",
    "a = []\n",
    "a2 = list()\n",
    "print(type(a),type(a2))\n",
    "print(a, a2)"
   ]
  },
  {
   "cell_type": "code",
   "execution_count": 2,
   "id": "85b35e91",
   "metadata": {},
   "outputs": [],
   "source": [
    "# 모든 데이터타입을 아이템으로 가질 수 있다.\n",
    "a3 = ['a', 10, 1.1, [1, 23.1,'a']]"
   ]
  },
  {
   "cell_type": "code",
   "execution_count": 19,
   "id": "2026cf99",
   "metadata": {},
   "outputs": [
    {
     "data": {
      "text/plain": [
       "23.1"
      ]
     },
     "execution_count": 19,
     "metadata": {},
     "output_type": "execute_result"
    }
   ],
   "source": [
    "# 2차원 배열이며, 인덱스를 2개를 써야 하나의 값을 타겟으로 잡을 수 있다.\n",
    "a3[3][1]"
   ]
  },
  {
   "cell_type": "code",
   "execution_count": 17,
   "id": "7b99c701",
   "metadata": {},
   "outputs": [
    {
     "data": {
      "text/plain": [
       "[1, 2, 3, [1, 2, 3, [10, 20]]]"
      ]
     },
     "execution_count": 17,
     "metadata": {},
     "output_type": "execute_result"
    }
   ],
   "source": [
    "# 3차원 배열 예시\n",
    "[1,2,3,[1,2,3,[10, 20]]]"
   ]
  },
  {
   "cell_type": "markdown",
   "id": "fcf9c1f2",
   "metadata": {},
   "source": [
    "## 2. 인덱싱, 슬라이싱\n",
    "\n",
    "리스트를 인덱스번호로 접근하면 해당하는 위치의 값(아이템)을 가져온다.\n",
    "\n",
    "※ 복습\n",
    "\n",
    "    - 첫 번째 인덱스 번호는 ? = 0번 인덱스 = 첫 번째 아이템\n",
    "    - 마지막 인덱스 번호는 ? = -1 = 마지막 아이템"
   ]
  },
  {
   "cell_type": "markdown",
   "id": "bb0740c2",
   "metadata": {},
   "source": [
    "### 인덱싱(Indexing)\n",
    "\n",
    "※ 정의 복습 : 특정 위치에 있는 하나의 아이템에 접근한다. = 하나의 값을 가져온다."
   ]
  },
  {
   "cell_type": "code",
   "execution_count": 20,
   "id": "a41edccf",
   "metadata": {},
   "outputs": [],
   "source": [
    "# 리스트 생성하기\n",
    "a = [1, 2, 3, 4, 5, 6, 7, 8, 9]"
   ]
  },
  {
   "cell_type": "code",
   "execution_count": 21,
   "id": "85f4ba9e",
   "metadata": {},
   "outputs": [
    {
     "data": {
      "text/plain": [
       "1"
      ]
     },
     "execution_count": 21,
     "metadata": {},
     "output_type": "execute_result"
    }
   ],
   "source": [
    "# 첫 번째 아이템 인덱스 번호 : 0\n",
    "# 인덱싱 문법 : 객체[인덱스 번호]\n",
    "a[0]"
   ]
  },
  {
   "cell_type": "code",
   "execution_count": 22,
   "id": "9883ab2b",
   "metadata": {},
   "outputs": [
    {
     "data": {
      "text/plain": [
       "6"
      ]
     },
     "execution_count": 22,
     "metadata": {},
     "output_type": "execute_result"
    }
   ],
   "source": [
    "# 리스트에서 6이라는 아이템 가져오기\n",
    "a[5]"
   ]
  },
  {
   "cell_type": "code",
   "execution_count": 23,
   "id": "74ed1b09",
   "metadata": {},
   "outputs": [
    {
     "data": {
      "text/plain": [
       "9"
      ]
     },
     "execution_count": 23,
     "metadata": {},
     "output_type": "execute_result"
    }
   ],
   "source": [
    "# 리스트의 마지막 값 확인하기\n",
    "a[-1]"
   ]
  },
  {
   "cell_type": "code",
   "execution_count": 24,
   "id": "a732c31a",
   "metadata": {},
   "outputs": [
    {
     "data": {
      "text/plain": [
       "9"
      ]
     },
     "execution_count": 24,
     "metadata": {},
     "output_type": "execute_result"
    }
   ],
   "source": [
    "# len()으로 길이 확인가능\n",
    "len(a)"
   ]
  },
  {
   "cell_type": "markdown",
   "id": "e72b7908",
   "metadata": {},
   "source": [
    "### 슬라이싱(Slicint)\n",
    "\n",
    "- 정의 복습 : 연속된 범위에 있는 하나 또는 하나 이상의 여러개 아이템에 접근한다.\n",
    "- 문법기호 : 대상객체(문자열, 리스트)[시작번호:끝번호:간격] => 끝번호는 포함하지 않는다."
   ]
  },
  {
   "cell_type": "code",
   "execution_count": 25,
   "id": "2ebcedfa",
   "metadata": {},
   "outputs": [
    {
     "data": {
      "text/plain": [
       "[1, 2, 3, 4, 5, 6, 7, 8, 9]"
      ]
     },
     "execution_count": 25,
     "metadata": {},
     "output_type": "execute_result"
    }
   ],
   "source": [
    "a"
   ]
  },
  {
   "cell_type": "code",
   "execution_count": 26,
   "id": "55e7fe5b",
   "metadata": {},
   "outputs": [
    {
     "data": {
      "text/plain": [
       "[1, 2, 3]"
      ]
     },
     "execution_count": 26,
     "metadata": {},
     "output_type": "execute_result"
    }
   ],
   "source": [
    "# 리스트의 0 ~ 2번째 아이템까지 확인하기\n",
    "# 시작번호 : 0\n",
    "# 끝나는번호 : 2 -> 3\n",
    "a[0:3]"
   ]
  },
  {
   "cell_type": "code",
   "execution_count": 27,
   "id": "67019825",
   "metadata": {},
   "outputs": [
    {
     "data": {
      "text/plain": [
       "[4, 5, 6, 7, 8, 9]"
      ]
     },
     "execution_count": 27,
     "metadata": {},
     "output_type": "execute_result"
    }
   ],
   "source": [
    "# 리스트의 3번째 아이템부터 마지막 아이템까지 확인하기\n",
    "# 시작번호 : 3\n",
    "# 끝번호 : 생략\n",
    "a[3:]"
   ]
  },
  {
   "cell_type": "markdown",
   "id": "773ee130",
   "metadata": {},
   "source": [
    "### << 연습문제 >>\n",
    "\n",
    "다음의 4차원 리스트에서 아래 조건에 맞는 값을 출력해주세요.\n",
    "\n",
    "         a = [1,2,3, ['a', [100, 200, ['강남', '서울'], 300,], 'b', 'c']]\n",
    "         \n",
    "         출력 결과 = 강남 & 300 & c"
   ]
  },
  {
   "cell_type": "code",
   "execution_count": 28,
   "id": "400c86ad",
   "metadata": {},
   "outputs": [],
   "source": [
    "a = [1,2,3, ['a', [100, 200, ['강남', '서울'], 300,], 'b', 'c']]"
   ]
  },
  {
   "cell_type": "code",
   "execution_count": 41,
   "id": "c83ccada",
   "metadata": {},
   "outputs": [
    {
     "data": {
      "text/plain": [
       "'강남'"
      ]
     },
     "execution_count": 41,
     "metadata": {},
     "output_type": "execute_result"
    }
   ],
   "source": [
    "value1 = a[3][1][2][0]\n",
    "value1"
   ]
  },
  {
   "cell_type": "code",
   "execution_count": 44,
   "id": "36342eda",
   "metadata": {},
   "outputs": [
    {
     "data": {
      "text/plain": [
       "'c'"
      ]
     },
     "execution_count": 44,
     "metadata": {},
     "output_type": "execute_result"
    }
   ],
   "source": [
    "value2 = a[3][3]\n",
    "value2"
   ]
  },
  {
   "cell_type": "code",
   "execution_count": 48,
   "id": "81a1be4f",
   "metadata": {},
   "outputs": [
    {
     "data": {
      "text/plain": [
       "300"
      ]
     },
     "execution_count": 48,
     "metadata": {},
     "output_type": "execute_result"
    }
   ],
   "source": [
    "value3 = a[3][1][3]\n",
    "value3"
   ]
  },
  {
   "cell_type": "code",
   "execution_count": 69,
   "id": "c01c9bbf",
   "metadata": {},
   "outputs": [
    {
     "name": "stdout",
     "output_type": "stream",
     "text": [
      "출력 결과 =강남 & c & 300\n"
     ]
    },
    {
     "data": {
      "text/plain": [
       "'출력결과 = 강남 & c & 300'"
      ]
     },
     "execution_count": 69,
     "metadata": {},
     "output_type": "execute_result"
    }
   ],
   "source": [
    "print(\"출력 결과 =\" + value1,'&',  value2,'&',value3)\n",
    "'출력결과 = %s & %s & %s' %(value1,value2,value3)"
   ]
  },
  {
   "cell_type": "markdown",
   "id": "64688276",
   "metadata": {},
   "source": [
    "### 3. 아이템 추가하기 : 연산자와 함수를 이용한 리스트 아이템 추가\n",
    "\n",
    "1) 산술연산자 : +, * <br>\n",
    "2) 리스트의 함수(메서드) : 리스트.append(), 리스트.extend(), 리스트.insert()"
   ]
  },
  {
   "cell_type": "markdown",
   "id": "a0bdbd15",
   "metadata": {},
   "source": [
    "### 3-1) 산술연산자\n",
    "\n",
    "* 종류 :+,*\n",
    "* 특징 : 원본에 반영되지 않는다."
   ]
  },
  {
   "cell_type": "code",
   "execution_count": 71,
   "id": "0c327411",
   "metadata": {},
   "outputs": [],
   "source": [
    "# 리스트끼리 연결 : +\n",
    "a = [1,2,3]\n",
    "b = [4,5,6]"
   ]
  },
  {
   "cell_type": "code",
   "execution_count": 72,
   "id": "c09ed5f7",
   "metadata": {},
   "outputs": [
    {
     "data": {
      "text/plain": [
       "[1, 2, 3, 4, 5, 6]"
      ]
     },
     "execution_count": 72,
     "metadata": {},
     "output_type": "execute_result"
    }
   ],
   "source": [
    "a + b"
   ]
  },
  {
   "cell_type": "code",
   "execution_count": 73,
   "id": "1f2b03b1",
   "metadata": {},
   "outputs": [
    {
     "name": "stdout",
     "output_type": "stream",
     "text": [
      "[1, 2, 3] [4, 5, 6]\n"
     ]
    }
   ],
   "source": [
    "print(a, b)"
   ]
  },
  {
   "cell_type": "code",
   "execution_count": 74,
   "id": "2699e920",
   "metadata": {},
   "outputs": [
    {
     "data": {
      "text/plain": [
       "[4, 5, 6, 4, 5, 6, 4, 5, 6]"
      ]
     },
     "execution_count": 74,
     "metadata": {},
     "output_type": "execute_result"
    }
   ],
   "source": [
    "# 리스트 대상 곱하기 : *\n",
    "b * 3 # b + b + b"
   ]
  },
  {
   "cell_type": "markdown",
   "id": "ad6642ae",
   "metadata": {},
   "source": [
    "### 4. 리스트 타입의 함수 (method)\n",
    "* 종류\n",
    "\n",
    "    - 리스트.append(추가할 아이템) : 인자값을 통채로 리스트의 마지막 아이템으로 추가, 인자값은 1개만 받음 = 1개의 아이템만 추가 가능\n",
    "\n",
    "    - 리스트.extend(추가할 아이템) : 인자값의 아이템을 뽑아서 리스트의 마지막 아이템으로 추가, 인자값은 1개만 받음, 단 여러 개의 아이템 추가 가능\n",
    "    \n",
    "    - 리스트.insert(인덱스번호, 추가할 아이템) : 위치를 지정해서 아이템을 삽입할 수 있음, 통채로 아이템을 추가\n",
    "    \n",
    "    - 특징 : 원본에 바로 적용이 됨\n",
    "    \n",
    "    \n",
    "* 참고 연산자 : in 연산자 (결과값은 bool type)"
   ]
  },
  {
   "cell_type": "code",
   "execution_count": 87,
   "id": "ac0c5f72",
   "metadata": {},
   "outputs": [
    {
     "data": {
      "text/plain": [
       "[1, 2, 3]"
      ]
     },
     "execution_count": 87,
     "metadata": {},
     "output_type": "execute_result"
    }
   ],
   "source": [
    "# 리스트 생성하기\n",
    "a = [1, 2, 3]\n",
    "a"
   ]
  },
  {
   "cell_type": "code",
   "execution_count": 88,
   "id": "6ec02059",
   "metadata": {},
   "outputs": [
    {
     "data": {
      "text/plain": [
       "[1, 2, 3, 4]"
      ]
     },
     "execution_count": 88,
     "metadata": {},
     "output_type": "execute_result"
    }
   ],
   "source": [
    "# append()\n",
    "# 문법 : 리스트.append(추가할 아이템)\n",
    "a.append(4)\n",
    "a"
   ]
  },
  {
   "cell_type": "code",
   "execution_count": 89,
   "id": "91034400",
   "metadata": {},
   "outputs": [
    {
     "data": {
      "text/plain": [
       "[1, 2, 3, 4, [5, 6]]"
      ]
     },
     "execution_count": 89,
     "metadata": {},
     "output_type": "execute_result"
    }
   ],
   "source": [
    "# 추가할 자료로 [5,6]을 제공한다면\n",
    "a.append([5,6])\n",
    "a"
   ]
  },
  {
   "cell_type": "code",
   "execution_count": 91,
   "id": "1a2ddab3",
   "metadata": {},
   "outputs": [
    {
     "data": {
      "text/plain": [
       "[1, 2, 3, 4, [5, 6], 7, 8, 9, 7, 8, 9]"
      ]
     },
     "execution_count": 91,
     "metadata": {},
     "output_type": "execute_result"
    }
   ],
   "source": [
    "# extend()\n",
    "# 문법 : 대상리스트.extend(리스트)\n",
    "# append()와의 차이점 : 인자값으로 리스트만 받을 수 있다.\n",
    "# 리스트 길이만큼 인덱스가 연장된다(append는 무조건 1만큼 연장됨)\n",
    "a.extend([7, 8, 9])\n",
    "a"
   ]
  },
  {
   "cell_type": "code",
   "execution_count": 92,
   "id": "7da446e8",
   "metadata": {},
   "outputs": [
    {
     "data": {
      "text/plain": [
       "[1, 2, 3, 4, [5, 6], 7, 8, 9, 7, 8, 9, 10]"
      ]
     },
     "execution_count": 92,
     "metadata": {},
     "output_type": "execute_result"
    }
   ],
   "source": [
    "a.extend([10])\n",
    "a"
   ]
  },
  {
   "cell_type": "code",
   "execution_count": 93,
   "id": "f0d96e19",
   "metadata": {},
   "outputs": [
    {
     "data": {
      "text/plain": [
       "[1, 2, 3, 4, [5, 6], 7, 8, 9, 7, 8, 9, 10]"
      ]
     },
     "execution_count": 93,
     "metadata": {},
     "output_type": "execute_result"
    }
   ],
   "source": [
    "a"
   ]
  },
  {
   "cell_type": "code",
   "execution_count": 96,
   "id": "7879e06b",
   "metadata": {},
   "outputs": [
    {
     "data": {
      "text/plain": [
       "[100, 1, 2, 3, 4, [5, 6], 7, 8, 9, 7, 8, 9, 10]"
      ]
     },
     "execution_count": 96,
     "metadata": {},
     "output_type": "execute_result"
    }
   ],
   "source": [
    "# insert()\n",
    "# 문법 : 대상리스트, insert(인덱스번호, 추가할아이템)\n",
    "# 다른 함수와의 차이점 : 아이템 추가가 마지막 인덱스가 아닌 지정한 인덱스를 기준으로\n",
    "# append와의 유사점 : 하나의 인덱스에 다 때려박음\n",
    "a.insert(0,100)\n",
    "a"
   ]
  },
  {
   "cell_type": "code",
   "execution_count": 97,
   "id": "b2afbce0",
   "metadata": {},
   "outputs": [
    {
     "data": {
      "text/plain": [
       "[[99, 98], 100, 1, 2, 3, 4, [5, 6], 7, 8, 9, 7, 8, 9, 10]"
      ]
     },
     "execution_count": 97,
     "metadata": {},
     "output_type": "execute_result"
    }
   ],
   "source": [
    "a.insert(0, [99, 98])\n",
    "a"
   ]
  },
  {
   "cell_type": "code",
   "execution_count": 100,
   "id": "07120881",
   "metadata": {},
   "outputs": [
    {
     "data": {
      "text/plain": [
       "True"
      ]
     },
     "execution_count": 100,
     "metadata": {},
     "output_type": "execute_result"
    }
   ],
   "source": [
    "# in 키워드는 특정 요소가 리스트 내에 있는지 없는지 여부를 물어봅니다.\n",
    "# 값 in 리스트\n",
    "# 값 100이 a 리스트 내에 존재하나요? => 100 in a\n",
    "99 in a[0]"
   ]
  },
  {
   "cell_type": "code",
   "execution_count": 99,
   "id": "0065bb9c",
   "metadata": {},
   "outputs": [
    {
     "data": {
      "text/plain": [
       "[[99, 98], 100, 1, 2, 3, 4, [5, 6], 7, 8, 9, 7, 8, 9, 10]"
      ]
     },
     "execution_count": 99,
     "metadata": {},
     "output_type": "execute_result"
    }
   ],
   "source": [
    "a"
   ]
  },
  {
   "cell_type": "code",
   "execution_count": 101,
   "id": "7b95e7fd",
   "metadata": {},
   "outputs": [
    {
     "data": {
      "text/plain": [
       "False"
      ]
     },
     "execution_count": 101,
     "metadata": {},
     "output_type": "execute_result"
    }
   ],
   "source": [
    "# not in 키워드는 특정 요소가 리스트 내부에 없는지를 물어봅니다.\n",
    "# 값 not in 리스트\n",
    "# 50이 a 리스트에 없습니까? -> 50 no in a\n",
    "10 not in a"
   ]
  },
  {
   "cell_type": "markdown",
   "id": "a4fb6e6f",
   "metadata": {},
   "source": [
    "### <<연습문제>>\n",
    "\n",
    "아래의 순서에 맞추어 직접 실행해보세요.\n",
    "1) 빈 리스트 생성\n",
    "\n",
    "2) 1번 리스트에 숫자 1,2,3을 아이템으로 추가\n",
    "\n",
    "3) 2번 리스트의 3번째 위치에 문자 100을 아이템으로 추가\n",
    "\n",
    "4) 3번 리스트의 마지막에 문자 A, B를 아이템으로 가진 리스트를 아이템으로 추가\n",
    "\n",
    "5) 4번 리스트의 아이템을 2번 반복해서 가지는 리스트를 출력"
   ]
  },
  {
   "cell_type": "code",
   "execution_count": 116,
   "id": "09764344",
   "metadata": {},
   "outputs": [
    {
     "data": {
      "text/plain": [
       "[]"
      ]
     },
     "execution_count": 116,
     "metadata": {},
     "output_type": "execute_result"
    }
   ],
   "source": [
    "a = []\n",
    "a"
   ]
  },
  {
   "cell_type": "code",
   "execution_count": 117,
   "id": "7e2d6c7c",
   "metadata": {},
   "outputs": [
    {
     "data": {
      "text/plain": [
       "[1, 2, 3]"
      ]
     },
     "execution_count": 117,
     "metadata": {},
     "output_type": "execute_result"
    }
   ],
   "source": [
    "a.extend([1,2,3])\n",
    "a"
   ]
  },
  {
   "cell_type": "code",
   "execution_count": 120,
   "id": "021cf398",
   "metadata": {},
   "outputs": [
    {
     "data": {
      "text/plain": [
       "[1, 2, 100, 3]"
      ]
     },
     "execution_count": 120,
     "metadata": {},
     "output_type": "execute_result"
    }
   ],
   "source": [
    "a.insert(2,100)\n",
    "a"
   ]
  },
  {
   "cell_type": "code",
   "execution_count": 121,
   "id": "4e6bec53",
   "metadata": {},
   "outputs": [],
   "source": [
    "a.append(['A','B'])"
   ]
  },
  {
   "cell_type": "code",
   "execution_count": 122,
   "id": "d3a11ad2",
   "metadata": {},
   "outputs": [
    {
     "data": {
      "text/plain": [
       "[1, 2, 100, 3, ['A', 'B']]"
      ]
     },
     "execution_count": 122,
     "metadata": {},
     "output_type": "execute_result"
    }
   ],
   "source": [
    "a"
   ]
  },
  {
   "cell_type": "code",
   "execution_count": 125,
   "id": "a002207e",
   "metadata": {},
   "outputs": [
    {
     "data": {
      "text/plain": [
       "[1, 2, 100, 3, ['A', 'B'], 1, 2, 100, 3, ['A', 'B']]"
      ]
     },
     "execution_count": 125,
     "metadata": {},
     "output_type": "execute_result"
    }
   ],
   "source": [
    "a * 2"
   ]
  },
  {
   "cell_type": "code",
   "execution_count": null,
   "id": "d9d423ef",
   "metadata": {},
   "outputs": [],
   "source": [
    "#################################################"
   ]
  },
  {
   "cell_type": "code",
   "execution_count": 131,
   "id": "adbc4207",
   "metadata": {},
   "outputs": [
    {
     "data": {
      "text/plain": [
       "[]"
      ]
     },
     "execution_count": 131,
     "metadata": {},
     "output_type": "execute_result"
    }
   ],
   "source": [
    "# 1) 빈 리스트 생성\n",
    "list1 = list()\n",
    "list1"
   ]
  },
  {
   "cell_type": "code",
   "execution_count": 132,
   "id": "9ac65737",
   "metadata": {},
   "outputs": [
    {
     "data": {
      "text/plain": [
       "[1, 2, 3]"
      ]
     },
     "execution_count": 132,
     "metadata": {},
     "output_type": "execute_result"
    }
   ],
   "source": [
    "# 2) 1번 리스트이 숫자 1, 2, 3을 아이템으로 추가\n",
    "# .append(), .extend()중 하나를 사용해주세요.\n",
    "list1.append(1)\n",
    "list1.append(2)\n",
    "list1.append(3)\n",
    "list1"
   ]
  },
  {
   "cell_type": "code",
   "execution_count": 133,
   "id": "774b1bf8",
   "metadata": {},
   "outputs": [
    {
     "data": {
      "text/plain": [
       "[1, 2, 100, 3]"
      ]
     },
     "execution_count": 133,
     "metadata": {},
     "output_type": "execute_result"
    }
   ],
   "source": [
    "# 3) 2번 리스트의 인덱스 2번째 위치에 문자 100을 아이템으로 추가하기\n",
    "list1.insert(2, 100)\n",
    "list1"
   ]
  },
  {
   "cell_type": "code",
   "execution_count": 134,
   "id": "30618aba",
   "metadata": {},
   "outputs": [
    {
     "data": {
      "text/plain": [
       "[1, 2, 100, 3, ['A', 'B']]"
      ]
     },
     "execution_count": 134,
     "metadata": {},
     "output_type": "execute_result"
    }
   ],
   "source": [
    "# 4) 3번 리스트의 마지막에 문자 A,B를 아이템으로 가진 리스트를 아이템으로 추가\n",
    "list1.append(['A','B'])\n",
    "list1"
   ]
  },
  {
   "cell_type": "code",
   "execution_count": 135,
   "id": "9058040a",
   "metadata": {},
   "outputs": [
    {
     "data": {
      "text/plain": [
       "[1, 2, 100, 3, ['A', 'B'], 1, 2, 100, 3, ['A', 'B']]"
      ]
     },
     "execution_count": 135,
     "metadata": {},
     "output_type": "execute_result"
    }
   ],
   "source": [
    "# 5) 4번 리스트의 아이템을 2번 반복해서 가지는 리스트 출력\n",
    "list1 + list1"
   ]
  },
  {
   "cell_type": "markdown",
   "id": "5838ca51",
   "metadata": {},
   "source": [
    "### 5. 아이템 수정하기\n",
    "\n",
    "- 인덱싱, 슬라이싱을 이용해서 아이템을 수정할 수 있다."
   ]
  },
  {
   "cell_type": "code",
   "execution_count": 1,
   "id": "b7eec0dd",
   "metadata": {},
   "outputs": [],
   "source": [
    "# 리스트 생성하기\n",
    "a = [1, 2, 3, 4]"
   ]
  },
  {
   "cell_type": "code",
   "execution_count": 2,
   "id": "985a93ba",
   "metadata": {},
   "outputs": [
    {
     "data": {
      "text/plain": [
       "[[10, 20], 2, 3, 4]"
      ]
     },
     "execution_count": 2,
     "metadata": {},
     "output_type": "execute_result"
    }
   ],
   "source": [
    "# 하나의 아이템 수정하기\n",
    "# 0번 인덱스에 있는 값을 [10, 20]으로 수정하기\n",
    "# 결과 :[[10, 20], 2, 3, 4]\n",
    "a[0] = [10, 20]\n",
    "a"
   ]
  },
  {
   "cell_type": "code",
   "execution_count": 3,
   "id": "06f134bc",
   "metadata": {},
   "outputs": [
    {
     "data": {
      "text/plain": [
       "[10, 20, 2, 3, 4]"
      ]
     },
     "execution_count": 3,
     "metadata": {},
     "output_type": "execute_result"
    }
   ],
   "source": [
    "# 연속된 범위의 여러 아이템 수정하기\n",
    "# 0번 인덱스만 선택 => 슬라이싱으로 선택\n",
    "a2 = [1, 2, 3, 4]\n",
    "a2[0:1] = [10, 20] #0번째부터 0(1-1)번째까지\n",
    "a2"
   ]
  },
  {
   "cell_type": "code",
   "execution_count": 5,
   "id": "7791b762",
   "metadata": {},
   "outputs": [
    {
     "data": {
      "text/plain": [
       "[100, 20, 2, 3, 4]"
      ]
     },
     "execution_count": 5,
     "metadata": {},
     "output_type": "execute_result"
    }
   ],
   "source": [
    "# 슬라이싱으로 값을 할당할 때의 주의점 : 전달하는 값은 1개여도 리스트로\n",
    "a2[0:1] = [100]\n",
    "a2"
   ]
  },
  {
   "cell_type": "markdown",
   "id": "4ffb14c4",
   "metadata": {},
   "source": [
    "### <<연습문제>>\n",
    "\n",
    "아래 조건에 맞추어 리스트로 수정하세요.\n",
    "    \n",
    "    [10, 99 ,3, '사과', 73, '바나나']\n",
    "\n",
    "조건1) '사과'를 'apple' 로 수정\n",
    "\n",
    "조건2) 99, 3을 9, 33으로 수정(슬라이싱으로 교체하세요)\n",
    "\n",
    "조건3) 73을 [73, 74] 로 수정"
   ]
  },
  {
   "cell_type": "code",
   "execution_count": 23,
   "id": "a8126832",
   "metadata": {},
   "outputs": [
    {
     "data": {
      "text/plain": [
       "[10, 99, 3, '사과', 73, '바나나']"
      ]
     },
     "execution_count": 23,
     "metadata": {},
     "output_type": "execute_result"
    }
   ],
   "source": [
    "list = [10, 99 ,3, '사과', 73, '바나나']\n",
    "list"
   ]
  },
  {
   "cell_type": "code",
   "execution_count": 24,
   "id": "79645c8e",
   "metadata": {},
   "outputs": [
    {
     "data": {
      "text/plain": [
       "[10, 99, 3, 'apple', 73, '바나나']"
      ]
     },
     "execution_count": 24,
     "metadata": {},
     "output_type": "execute_result"
    }
   ],
   "source": [
    "#조건1) '사과' 를 'apple'로 수정\n",
    "list[3] = 'apple'\n",
    "list"
   ]
  },
  {
   "cell_type": "code",
   "execution_count": 25,
   "id": "5a76229e",
   "metadata": {},
   "outputs": [
    {
     "data": {
      "text/plain": [
       "[10, 9, 33, 'apple', 73, '바나나']"
      ]
     },
     "execution_count": 25,
     "metadata": {},
     "output_type": "execute_result"
    }
   ],
   "source": [
    "# 조건2) 99, 3을 9, 33으로 수정\n",
    "list[1:3] = [9, 33]\n",
    "list"
   ]
  },
  {
   "cell_type": "code",
   "execution_count": 26,
   "id": "25b33a60",
   "metadata": {},
   "outputs": [
    {
     "data": {
      "text/plain": [
       "[10, 9, 33, 'apple', [73, 74], '바나나']"
      ]
     },
     "execution_count": 26,
     "metadata": {},
     "output_type": "execute_result"
    }
   ],
   "source": [
    "# 조건3) 73을 [73, 74]로 수정\n",
    "list[4] = [73, 74]\n",
    "list"
   ]
  },
  {
   "cell_type": "markdown",
   "id": "82e14422",
   "metadata": {},
   "source": [
    "### 6. 아이템 삭제하기\n",
    "\n",
    "* 슬라이싱\n",
    "\n",
    "* del 키워드 + 인덱싱/슬라이싱\n",
    "\n",
    "* remove() 메서드 : 값을 기준으로 삭제\n",
    "\n",
    "* pop()\n",
    "    - 인자값에 아무것도 입력하지 않거나 -1을 입력하면 마지막 인덱스를 삭제\n",
    "    - 특정 인덱스를 지정하여 삭제"
   ]
  },
  {
   "cell_type": "code",
   "execution_count": 27,
   "id": "3d84cb17",
   "metadata": {},
   "outputs": [],
   "source": [
    "# 리스트 생성하기\n",
    "a1 = [10, 20, 30, 40, 50]\n",
    "a2 = [10, 20, 30, 40, 50]"
   ]
  },
  {
   "cell_type": "code",
   "execution_count": 28,
   "id": "74f6e28b",
   "metadata": {},
   "outputs": [
    {
     "data": {
      "text/plain": [
       "[20, 30, 40, 50]"
      ]
     },
     "execution_count": 28,
     "metadata": {},
     "output_type": "execute_result"
    }
   ],
   "source": [
    "# 하나의 아이템 삭제하기 1 - 슬라이싱 + 빈 리스트 대입\n",
    "# 0번 인덱스 값 삭제하기\n",
    "a1[0:1] = []\n",
    "a1"
   ]
  },
  {
   "cell_type": "code",
   "execution_count": 29,
   "id": "5ecc390c",
   "metadata": {},
   "outputs": [
    {
     "data": {
      "text/plain": [
       "[[], 20, 30, 40, 50]"
      ]
     },
     "execution_count": 29,
     "metadata": {},
     "output_type": "execute_result"
    }
   ],
   "source": [
    "# 만약 슬라이싱이 아닌 인덱싱을 이용한 빈 리스트 대입시는 빈 리스트가 해당 번호에 대입\n",
    "a2[0] = []\n",
    "a2"
   ]
  },
  {
   "cell_type": "code",
   "execution_count": 30,
   "id": "bbaa87e1",
   "metadata": {},
   "outputs": [
    {
     "data": {
      "text/plain": [
       "[20, 30, 40]"
      ]
     },
     "execution_count": 30,
     "metadata": {},
     "output_type": "execute_result"
    }
   ],
   "source": [
    "# 하나의 아이템 삭제하기 2 - del 키워드 + 인덱싱\n",
    "del a1[-1]\n",
    "a1"
   ]
  },
  {
   "cell_type": "code",
   "execution_count": 31,
   "id": "52e73323",
   "metadata": {},
   "outputs": [
    {
     "ename": "NameError",
     "evalue": "name 'a2' is not defined",
     "output_type": "error",
     "traceback": [
      "\u001b[1;31m---------------------------------------------------------------------------\u001b[0m",
      "\u001b[1;31mNameError\u001b[0m                                 Traceback (most recent call last)",
      "\u001b[1;32m<ipython-input-31-92d8d7ab96ba>\u001b[0m in \u001b[0;36m<module>\u001b[1;34m\u001b[0m\n\u001b[0;32m      2\u001b[0m \u001b[1;31m# 리스트 전체를 del키워드로 걸면, 리스트가 전부 삭제됩니다.\u001b[0m\u001b[1;33m\u001b[0m\u001b[1;33m\u001b[0m\u001b[1;33m\u001b[0m\u001b[0m\n\u001b[0;32m      3\u001b[0m \u001b[1;32mdel\u001b[0m \u001b[0ma2\u001b[0m\u001b[1;33m\u001b[0m\u001b[1;33m\u001b[0m\u001b[0m\n\u001b[1;32m----> 4\u001b[1;33m \u001b[0ma2\u001b[0m\u001b[1;33m\u001b[0m\u001b[1;33m\u001b[0m\u001b[0m\n\u001b[0m",
      "\u001b[1;31mNameError\u001b[0m: name 'a2' is not defined"
     ]
    }
   ],
   "source": [
    "# del 키워드는 원래 해당 변수나 자료를 삭제해버립니다.\n",
    "# 리스트 전체를 del키워드로 걸면, 리스트가 전부 삭제됩니다.\n",
    "del a2\n",
    "a2"
   ]
  },
  {
   "cell_type": "code",
   "execution_count": 33,
   "id": "432491a0",
   "metadata": {},
   "outputs": [],
   "source": [
    "# 하나의 아이템 삭지하기 3 - remove()메서드\n",
    "# 문법 : 리스트.remove(삭제할 자료를 직접 기입(인덱스가 아님!!))\n",
    "a = [1,2,3,3,3,4,5]"
   ]
  },
  {
   "cell_type": "code",
   "execution_count": 34,
   "id": "58e82722",
   "metadata": {},
   "outputs": [
    {
     "data": {
      "text/plain": [
       "[1, 2, 3, 3, 3, 4]"
      ]
     },
     "execution_count": 34,
     "metadata": {},
     "output_type": "execute_result"
    }
   ],
   "source": [
    "# 5라는 값을 삭제(인덱스번호로는 6)\n",
    "a.remove(5)\n",
    "a"
   ]
  },
  {
   "cell_type": "code",
   "execution_count": 36,
   "id": "82fe75b3",
   "metadata": {},
   "outputs": [
    {
     "data": {
      "text/plain": [
       "[1, 2, 3, 3, 4]"
      ]
     },
     "execution_count": 36,
     "metadata": {},
     "output_type": "execute_result"
    }
   ],
   "source": [
    "# 중복된 아이템이 존재하면 가장 앞서는 인덱스 자료 하나만 삭제\n",
    "a.remove(3)\n",
    "a"
   ]
  },
  {
   "cell_type": "code",
   "execution_count": 37,
   "id": "0d098c91",
   "metadata": {},
   "outputs": [
    {
     "data": {
      "text/plain": [
       "[1, 2]"
      ]
     },
     "execution_count": 37,
     "metadata": {},
     "output_type": "execute_result"
    }
   ],
   "source": [
    "# del 키워드는 단일자료뿐만 아니라 연속된 범위(슬라이싱)자료 삭제도 가능하다.\n",
    "del a[2:]\n",
    "a"
   ]
  },
  {
   "cell_type": "code",
   "execution_count": 38,
   "id": "f907a5f4",
   "metadata": {},
   "outputs": [
    {
     "data": {
      "text/plain": [
       "[1, 2, 3, 4, 5, 6]"
      ]
     },
     "execution_count": 38,
     "metadata": {},
     "output_type": "execute_result"
    }
   ],
   "source": [
    "# 하나의 아이템 삭제하기 4 - pop() 메서드\n",
    "# 마지막에 위치한 값이 몇이었는지 확인시켜주고 삭제함\n",
    "a = [1, 2, 3, 4, 5]\n",
    "a.append(6)\n",
    "a"
   ]
  },
  {
   "cell_type": "code",
   "execution_count": 39,
   "id": "2f42ea52",
   "metadata": {},
   "outputs": [
    {
     "data": {
      "text/plain": [
       "6"
      ]
     },
     "execution_count": 39,
     "metadata": {},
     "output_type": "execute_result"
    }
   ],
   "source": [
    "a.pop() #인덱스 번호를 미기입하면 마지막 인덱스 자료 삭제(6삭제)"
   ]
  },
  {
   "cell_type": "code",
   "execution_count": 40,
   "id": "540a38b7",
   "metadata": {},
   "outputs": [
    {
     "data": {
      "text/plain": [
       "[1, 2, 3, 4, 5]"
      ]
     },
     "execution_count": 40,
     "metadata": {},
     "output_type": "execute_result"
    }
   ],
   "source": [
    "a"
   ]
  },
  {
   "cell_type": "code",
   "execution_count": 41,
   "id": "bc3e4639",
   "metadata": {},
   "outputs": [
    {
     "data": {
      "text/plain": [
       "3"
      ]
     },
     "execution_count": 41,
     "metadata": {},
     "output_type": "execute_result"
    }
   ],
   "source": [
    "# 삭제하려는 인덱스번호 지정시 마지막이 아닌 입력된 인덱스 자료 삭제\n",
    "a.pop(2)"
   ]
  },
  {
   "cell_type": "code",
   "execution_count": 42,
   "id": "f0234b11",
   "metadata": {},
   "outputs": [
    {
     "data": {
      "text/plain": [
       "[1, 2, 4, 5]"
      ]
     },
     "execution_count": 42,
     "metadata": {},
     "output_type": "execute_result"
    }
   ],
   "source": [
    "a"
   ]
  },
  {
   "cell_type": "markdown",
   "id": "efd99b29",
   "metadata": {},
   "source": [
    "### 7. 아이템 정렬하기\n",
    "\n",
    "* 함수\n",
    "\n",
    "    -sort( ) : 기본동작 = 오름차순정렬(작은값이 먼저오고 큰값이 나중에)\n",
    "    \n",
    "    -reverse( ) : 기존 리스트의 처음과 마지막 순서를 뒤집어서 나열"
   ]
  },
  {
   "cell_type": "code",
   "execution_count": 43,
   "id": "5b3db02e",
   "metadata": {},
   "outputs": [],
   "source": [
    "a = [10, -30, 57, -33, 71, 1, 34, -2]"
   ]
  },
  {
   "cell_type": "code",
   "execution_count": 44,
   "id": "62783f6b",
   "metadata": {},
   "outputs": [
    {
     "data": {
      "text/plain": [
       "[-33, -30, -2, 1, 10, 34, 57, 71]"
      ]
     },
     "execution_count": 44,
     "metadata": {},
     "output_type": "execute_result"
    }
   ],
   "source": [
    "# 값을 오름차순으로 정렬 : sort() 기본동작 / sort(reverse=False)\n",
    "# *** 원본 리스트가 시뮬레이션이 아니라 아예 변경됩니다\n",
    "a.sort()\n",
    "a"
   ]
  },
  {
   "cell_type": "code",
   "execution_count": 46,
   "id": "1db86be9",
   "metadata": {},
   "outputs": [
    {
     "data": {
      "text/plain": [
       "[71, 57, 34, 10, 1, -2, -30, -33]"
      ]
     },
     "execution_count": 46,
     "metadata": {},
     "output_type": "execute_result"
    }
   ],
   "source": [
    "# 값을 오름차순이 아닌 내림차순으로 정렬하는 경우 : .sort(reverse=True)\n",
    "a.sort(reverse=True)\n",
    "a"
   ]
  },
  {
   "cell_type": "code",
   "execution_count": 47,
   "id": "8d216676",
   "metadata": {},
   "outputs": [],
   "source": [
    "# 값을 인덱스기준으로 반대로 뒤집기 : reverse()\n",
    "b = [10, 70, 32, 45, 5, 95]"
   ]
  },
  {
   "cell_type": "code",
   "execution_count": 48,
   "id": "92c2ca15",
   "metadata": {},
   "outputs": [
    {
     "data": {
      "text/plain": [
       "[95, 5, 45, 32, 70, 10]"
      ]
     },
     "execution_count": 48,
     "metadata": {},
     "output_type": "execute_result"
    }
   ],
   "source": [
    "b.reverse()\n",
    "b"
   ]
  },
  {
   "cell_type": "markdown",
   "id": "eb299148",
   "metadata": {},
   "source": [
    "### 8. 아이템 개수 세기\n",
    "\n",
    "* 함수\n",
    "    - 리스트.count(값) : 값이 리스트에 몇 개 있는지 개수를 반환 => 특정 아이템의 개수를 반환\n",
    "    \n",
    "    - len( ) : 파이썬 내장함수, 인자값으로 전달받은 객체의 길이 => 전체 아이템의 개수를 반환"
   ]
  },
  {
   "cell_type": "code",
   "execution_count": 49,
   "id": "56fa23e6",
   "metadata": {},
   "outputs": [],
   "source": [
    "a = [1, 2, 3, 3, 3, 4, 5, 6]"
   ]
  },
  {
   "cell_type": "code",
   "execution_count": 50,
   "id": "2802b598",
   "metadata": {},
   "outputs": [
    {
     "data": {
      "text/plain": [
       "0"
      ]
     },
     "execution_count": 50,
     "metadata": {},
     "output_type": "execute_result"
    }
   ],
   "source": [
    "# 특정 아이템의 개수 : count()\n",
    "a.count(7)"
   ]
  },
  {
   "cell_type": "code",
   "execution_count": 51,
   "id": "ec13e376",
   "metadata": {},
   "outputs": [
    {
     "data": {
      "text/plain": [
       "8"
      ]
     },
     "execution_count": 51,
     "metadata": {},
     "output_type": "execute_result"
    }
   ],
   "source": [
    "# 전체 아이템의 개수 : len()\n",
    "len(a)"
   ]
  },
  {
   "cell_type": "markdown",
   "id": "52f4d348",
   "metadata": {},
   "source": [
    "### 9. 리스트 복사하기\n",
    "\n",
    "* 할당기호(=)\n",
    "\n",
    "* copy() 메서드\n",
    "\n",
    "* list()\n",
    "\n",
    "* 슬라이싱"
   ]
  },
  {
   "cell_type": "code",
   "execution_count": 79,
   "id": "fc993fc4",
   "metadata": {},
   "outputs": [],
   "source": [
    "# 1. 할당기호(=) 로 복사하기\n",
    "a = [1, 2, 3, 4, 5]\n",
    "b = a"
   ]
  },
  {
   "cell_type": "code",
   "execution_count": 80,
   "id": "d5471408",
   "metadata": {},
   "outputs": [
    {
     "name": "stdout",
     "output_type": "stream",
     "text": [
      "[1, 2, 3, 4, 5] [1, 2, 3, 4, 5]\n"
     ]
    }
   ],
   "source": [
    "print(a, b)"
   ]
  },
  {
   "cell_type": "code",
   "execution_count": 81,
   "id": "e0466042",
   "metadata": {},
   "outputs": [],
   "source": [
    "# =을 이용해 복사한 요소는 동일한 지점을 가리키는 복사이다\n",
    "a[0] = 10"
   ]
  },
  {
   "cell_type": "code",
   "execution_count": 82,
   "id": "442214f6",
   "metadata": {},
   "outputs": [
    {
     "data": {
      "text/plain": [
       "[10, 2, 3, 4, 5]"
      ]
     },
     "execution_count": 82,
     "metadata": {},
     "output_type": "execute_result"
    }
   ],
   "source": [
    "a"
   ]
  },
  {
   "cell_type": "code",
   "execution_count": 83,
   "id": "a2561838",
   "metadata": {},
   "outputs": [
    {
     "data": {
      "text/plain": [
       "[10, 2, 3, 4, 5]"
      ]
     },
     "execution_count": 83,
     "metadata": {},
     "output_type": "execute_result"
    }
   ],
   "source": [
    "b"
   ]
  },
  {
   "cell_type": "code",
   "execution_count": 84,
   "id": "5c64278e",
   "metadata": {},
   "outputs": [],
   "source": [
    "# 2. .copy() 메서드로 복사하기\n",
    "c = a.copy()"
   ]
  },
  {
   "cell_type": "code",
   "execution_count": 85,
   "id": "a1123f8b",
   "metadata": {},
   "outputs": [
    {
     "data": {
      "text/plain": [
       "[10, 2, 3, 4, 5]"
      ]
     },
     "execution_count": 85,
     "metadata": {},
     "output_type": "execute_result"
    }
   ],
   "source": [
    "c"
   ]
  },
  {
   "cell_type": "code",
   "execution_count": 86,
   "id": "7a97f851",
   "metadata": {},
   "outputs": [
    {
     "name": "stdout",
     "output_type": "stream",
     "text": [
      "1871452165632 1871452165632\n",
      "1871452165632 1871452178688\n"
     ]
    }
   ],
   "source": [
    "# 파이썬에서는 id(자료)를 이용해 저장된 번지수 주소를 조회할 수 있다.\n",
    "print(id(a), id(b))\n",
    "print(id(a), id(c))"
   ]
  },
  {
   "cell_type": "code",
   "execution_count": 87,
   "id": "d4bbad02",
   "metadata": {},
   "outputs": [
    {
     "name": "stdout",
     "output_type": "stream",
     "text": [
      "[10, 2, 20, 4, 5] [10, 2, 20, 4, 5] [10, 2, 3, 4, 5]\n"
     ]
    }
   ],
   "source": [
    "# a를 변경해도 c는 영향을 받지 않는다.\n",
    "a[2] = 20\n",
    "print(a, b, c)"
   ]
  },
  {
   "cell_type": "code",
   "execution_count": 89,
   "id": "df0ee0a4",
   "metadata": {
    "collapsed": true
   },
   "outputs": [
    {
     "ename": "TypeError",
     "evalue": "'list' object is not callable",
     "output_type": "error",
     "traceback": [
      "\u001b[1;31m---------------------------------------------------------------------------\u001b[0m",
      "\u001b[1;31mTypeError\u001b[0m                                 Traceback (most recent call last)",
      "\u001b[1;32m<ipython-input-89-df1021d8b1e6>\u001b[0m in \u001b[0;36m<module>\u001b[1;34m\u001b[0m\n\u001b[0;32m      1\u001b[0m \u001b[1;31m# 3. list()로 복사하기\u001b[0m\u001b[1;33m\u001b[0m\u001b[1;33m\u001b[0m\u001b[1;33m\u001b[0m\u001b[0m\n\u001b[0;32m      2\u001b[0m \u001b[1;31m# list(자료)를 넣으면 그 자료를 힙에 새롭게 할당해 리스트화한다.\u001b[0m\u001b[1;33m\u001b[0m\u001b[1;33m\u001b[0m\u001b[1;33m\u001b[0m\u001b[0m\n\u001b[1;32m----> 3\u001b[1;33m \u001b[0md\u001b[0m \u001b[1;33m=\u001b[0m \u001b[0mlist\u001b[0m\u001b[1;33m(\u001b[0m\u001b[0mc\u001b[0m\u001b[1;33m)\u001b[0m\u001b[1;33m\u001b[0m\u001b[1;33m\u001b[0m\u001b[0m\n\u001b[0m",
      "\u001b[1;31mTypeError\u001b[0m: 'list' object is not callable"
     ]
    }
   ],
   "source": [
    "# 3. list()로 복사하기\n",
    "# list(자료)를 넣으면 그 자료를 힙에 새롭게 할당해 리스트화한다.\n",
    "d = list(c)"
   ]
  },
  {
   "cell_type": "code",
   "execution_count": 63,
   "id": "12b415c7",
   "metadata": {
    "collapsed": true
   },
   "outputs": [
    {
     "ename": "NameError",
     "evalue": "name 'd' is not defined",
     "output_type": "error",
     "traceback": [
      "\u001b[1;31m---------------------------------------------------------------------------\u001b[0m",
      "\u001b[1;31mNameError\u001b[0m                                 Traceback (most recent call last)",
      "\u001b[1;32m<ipython-input-63-bfb11cdca861>\u001b[0m in \u001b[0;36m<module>\u001b[1;34m\u001b[0m\n\u001b[1;32m----> 1\u001b[1;33m \u001b[0mprint\u001b[0m\u001b[1;33m(\u001b[0m\u001b[0mc\u001b[0m\u001b[1;33m,\u001b[0m\u001b[0md\u001b[0m\u001b[1;33m)\u001b[0m\u001b[1;33m\u001b[0m\u001b[1;33m\u001b[0m\u001b[0m\n\u001b[0m",
      "\u001b[1;31mNameError\u001b[0m: name 'd' is not defined"
     ]
    }
   ],
   "source": [
    "print(c,d)"
   ]
  },
  {
   "cell_type": "code",
   "execution_count": 69,
   "id": "37cb9d3c",
   "metadata": {
    "collapsed": true
   },
   "outputs": [
    {
     "ename": "NameError",
     "evalue": "name 'd' is not defined",
     "output_type": "error",
     "traceback": [
      "\u001b[1;31m---------------------------------------------------------------------------\u001b[0m",
      "\u001b[1;31mNameError\u001b[0m                                 Traceback (most recent call last)",
      "\u001b[1;32m<ipython-input-69-774125ac7506>\u001b[0m in \u001b[0;36m<module>\u001b[1;34m\u001b[0m\n\u001b[0;32m      1\u001b[0m \u001b[1;31m# 4. 슬라이싱으로 복사하기\u001b[0m\u001b[1;33m\u001b[0m\u001b[1;33m\u001b[0m\u001b[1;33m\u001b[0m\u001b[0m\n\u001b[1;32m----> 2\u001b[1;33m \u001b[0me\u001b[0m \u001b[1;33m=\u001b[0m \u001b[0md\u001b[0m\u001b[1;33m[\u001b[0m\u001b[1;33m:\u001b[0m\u001b[1;33m]\u001b[0m\u001b[1;33m\u001b[0m\u001b[1;33m\u001b[0m\u001b[0m\n\u001b[0m\u001b[0;32m      3\u001b[0m \u001b[0mprint\u001b[0m\u001b[1;33m(\u001b[0m\u001b[0mid\u001b[0m\u001b[1;33m(\u001b[0m\u001b[0md\u001b[0m\u001b[1;33m)\u001b[0m\u001b[1;33m,\u001b[0m \u001b[0mid\u001b[0m\u001b[1;33m(\u001b[0m\u001b[0me\u001b[0m\u001b[1;33m)\u001b[0m\u001b[1;33m)\u001b[0m\u001b[1;33m\u001b[0m\u001b[1;33m\u001b[0m\u001b[0m\n",
      "\u001b[1;31mNameError\u001b[0m: name 'd' is not defined"
     ]
    }
   ],
   "source": [
    "# 4. 슬라이싱으로 복사하기\n",
    "e = d[:]\n",
    "print(id(d), id(e))"
   ]
  },
  {
   "cell_type": "markdown",
   "id": "4523eb91",
   "metadata": {},
   "source": [
    "### <<연습문제>>\n",
    "\n",
    "1. a 리스트를 이용하여 다음과 같은 문자열을 출력하시오<br>\n",
    "    a = ['Life', 'is', 'too', 'short', 'you', 'need', 'python']\n",
    "\n",
    "    출력문 : you too"
   ]
  },
  {
   "cell_type": "code",
   "execution_count": 98,
   "id": "958a9fd6",
   "metadata": {},
   "outputs": [],
   "source": [
    "a = ['Life', 'is', 'too', 'short', 'you', 'need', 'python']"
   ]
  },
  {
   "cell_type": "code",
   "execution_count": 91,
   "id": "f1800ef3",
   "metadata": {},
   "outputs": [
    {
     "name": "stdout",
     "output_type": "stream",
     "text": [
      "you too\n"
     ]
    }
   ],
   "source": [
    "print(a[4],a[2])"
   ]
  },
  {
   "cell_type": "code",
   "execution_count": 76,
   "id": "5f2c0316",
   "metadata": {},
   "outputs": [
    {
     "data": {
      "text/plain": [
       "['you', 'too', 'short', 'python', 'need', 'is']"
      ]
     },
     "execution_count": 76,
     "metadata": {},
     "output_type": "execute_result"
    }
   ],
   "source": [
    "a.sort(reverse=True)\n",
    "a"
   ]
  },
  {
   "cell_type": "code",
   "execution_count": 77,
   "id": "57b78bbe",
   "metadata": {},
   "outputs": [],
   "source": [
    "del a[2:]"
   ]
  },
  {
   "cell_type": "code",
   "execution_count": 78,
   "id": "cbe0f015",
   "metadata": {},
   "outputs": [
    {
     "data": {
      "text/plain": [
       "['you', 'too']"
      ]
     },
     "execution_count": 78,
     "metadata": {},
     "output_type": "execute_result"
    }
   ],
   "source": [
    "a "
   ]
  },
  {
   "cell_type": "code",
   "execution_count": 100,
   "id": "e402405e",
   "metadata": {},
   "outputs": [
    {
     "data": {
      "text/plain": [
       "7"
      ]
     },
     "execution_count": 100,
     "metadata": {},
     "output_type": "execute_result"
    }
   ],
   "source": [
    "# 리스트 길이도 구하세요\n",
    "len(a)"
   ]
  },
  {
   "cell_type": "markdown",
   "id": "1a993eac",
   "metadata": {},
   "source": [
    "3. a 리스트의 첫번째 아이템의 길이를 추가하세요<br>\n",
    "\n",
    "    (결과) [7, 'Life', 'is', 'too', 'short', 'you', 'need', 'python']"
   ]
  },
  {
   "cell_type": "code",
   "execution_count": 102,
   "id": "e8db918b",
   "metadata": {},
   "outputs": [
    {
     "data": {
      "text/plain": [
       "[7, 'Life', 'is', 'too', 'short', 'you', 'need', 'python']"
      ]
     },
     "execution_count": 102,
     "metadata": {},
     "output_type": "execute_result"
    }
   ],
   "source": [
    "a.insert(0, len(a))\n",
    "a"
   ]
  },
  {
   "cell_type": "markdown",
   "id": "960abb63",
   "metadata": {},
   "source": [
    "4. 아래와 같이 크기가 순서가 없는 리스트를 만들고 내림차순 정렬로 바꿔보세요\n",
    "\n",
    "    [1, 4, 9, 2, 6, 10]\n",
    "    \n",
    "    (결과) [10, 9, 6, 4, 2 ,1]"
   ]
  },
  {
   "cell_type": "code",
   "execution_count": 103,
   "id": "142f8b8f",
   "metadata": {},
   "outputs": [],
   "source": [
    "b = [1, 4, 9, 2, 6, 10]"
   ]
  },
  {
   "cell_type": "code",
   "execution_count": 104,
   "id": "4df773d7",
   "metadata": {},
   "outputs": [
    {
     "data": {
      "text/plain": [
       "[10, 9, 6, 4, 2, 1]"
      ]
     },
     "execution_count": 104,
     "metadata": {},
     "output_type": "execute_result"
    }
   ],
   "source": [
    "b.sort(reverse=True)\n",
    "b"
   ]
  },
  {
   "cell_type": "markdown",
   "id": "54b69c15",
   "metadata": {},
   "source": [
    "5. 다음과 같은 아이템을 가지는 리스트를 만들고 아이템을 삭제해보세요.\n",
    "\n",
    "    [1, 2, 3, 4, 5, 6, 7, 8, 9, 10]\n",
    "    \n",
    "    (결과) [2, 4, 6,  8, 10]"
   ]
  },
  {
   "cell_type": "code",
   "execution_count": 107,
   "id": "88420684",
   "metadata": {},
   "outputs": [],
   "source": [
    "c = [1, 2, 3, 4, 5, 6, 7, 8, 9, 10]"
   ]
  },
  {
   "cell_type": "code",
   "execution_count": 108,
   "id": "8a9db142",
   "metadata": {},
   "outputs": [
    {
     "data": {
      "text/plain": [
       "[2, 4, 6, 8, 10]"
      ]
     },
     "execution_count": 108,
     "metadata": {},
     "output_type": "execute_result"
    }
   ],
   "source": [
    "del c[::2]\n",
    "c"
   ]
  },
  {
   "cell_type": "markdown",
   "id": "5c7e919b",
   "metadata": {},
   "source": [
    "## 자료형 - Tuple\n",
    "\n",
    "- 생성 문법 기호 : ( )\n",
    "- 아이템을 수정/삭제할 수 없기 때문에 실수로 데이터가 변경되거나 삭제되는 위험이 적다\n",
    "- 객체를 저장하는데 더 적은 메모리를 사용한다.\n",
    "- dictionay 자료형의 key로 활용할 수 있다.\n",
    "- 함수의 인자는 tuple 자료형으로 전달된다."
   ]
  },
  {
   "cell_type": "markdown",
   "id": "530df96b",
   "metadata": {},
   "source": [
    "### 1. 생성하기"
   ]
  },
  {
   "cell_type": "code",
   "execution_count": 109,
   "id": "9f5948f7",
   "metadata": {},
   "outputs": [
    {
     "data": {
      "text/plain": [
       "list"
      ]
     },
     "execution_count": 109,
     "metadata": {},
     "output_type": "execute_result"
    }
   ],
   "source": [
    "# 하나의 아이템을 가지는 리스트\n",
    "a = [1]\n",
    "type(a)"
   ]
  },
  {
   "cell_type": "code",
   "execution_count": 115,
   "id": "7a285b1d",
   "metadata": {},
   "outputs": [
    {
     "data": {
      "text/plain": [
       "tuple"
      ]
     },
     "execution_count": 115,
     "metadata": {},
     "output_type": "execute_result"
    }
   ],
   "source": [
    "# 문법기호 : 튜플은 ()을 이용해 생성하되 생략이 가능함. 단 쉼표는 무조건 1개이상 들어감\n",
    "tu = 1,\n",
    "type(tu)"
   ]
  },
  {
   "cell_type": "code",
   "execution_count": 117,
   "id": "af983d93",
   "metadata": {},
   "outputs": [
    {
     "name": "stdout",
     "output_type": "stream",
     "text": [
      "<class 'list'> <class 'tuple'>\n"
     ]
    }
   ],
   "source": [
    "# tuple(리스트)로 처리하면 리스트를 튜플로 변환할 수 있다.\n",
    "b = tuple(a)\n",
    "print(type(a), type(b))"
   ]
  },
  {
   "cell_type": "code",
   "execution_count": 118,
   "id": "160f57c1",
   "metadata": {},
   "outputs": [
    {
     "data": {
      "text/plain": [
       "(56, 78, 29, 100)"
      ]
     },
     "execution_count": 118,
     "metadata": {},
     "output_type": "execute_result"
    }
   ],
   "source": [
    "# 변수 하나에 여러 값을 대입하면 튜플로 간주된다\n",
    "x = 56, 78, 29, 100\n",
    "x"
   ]
  },
  {
   "cell_type": "code",
   "execution_count": 119,
   "id": "ea135c2b",
   "metadata": {},
   "outputs": [
    {
     "name": "stdout",
     "output_type": "stream",
     "text": [
      "1 2 3\n"
     ]
    }
   ],
   "source": [
    "# 튜플 내부의 자료 개수만큼 변수를 대입해주면 하나씩 나눠서 값을 받는다\n",
    "x1, x2, x3 = 1, 2, 3\n",
    "print(x1, x2, x3)"
   ]
  },
  {
   "cell_type": "markdown",
   "id": "1fa9cad0",
   "metadata": {},
   "source": [
    "### 2. 인덱싱"
   ]
  },
  {
   "cell_type": "code",
   "execution_count": 120,
   "id": "dbd6c866",
   "metadata": {},
   "outputs": [
    {
     "data": {
      "text/plain": [
       "56"
      ]
     },
     "execution_count": 120,
     "metadata": {},
     "output_type": "execute_result"
    }
   ],
   "source": [
    "x[0]"
   ]
  },
  {
   "cell_type": "markdown",
   "id": "0d214f68",
   "metadata": {},
   "source": [
    "#### 3. 슬라이싱"
   ]
  },
  {
   "cell_type": "code",
   "execution_count": 121,
   "id": "43f5c3ac",
   "metadata": {},
   "outputs": [
    {
     "data": {
      "text/plain": [
       "(56, 78, 29)"
      ]
     },
     "execution_count": 121,
     "metadata": {},
     "output_type": "execute_result"
    }
   ],
   "source": [
    "x[:3]"
   ]
  },
  {
   "cell_type": "markdown",
   "id": "f496bb1c",
   "metadata": {},
   "source": [
    "### 4. 튜플 연산자 \n",
    "\n",
    "* 산술 연산자 : +, *"
   ]
  },
  {
   "cell_type": "code",
   "execution_count": 123,
   "id": "c6709311",
   "metadata": {},
   "outputs": [
    {
     "data": {
      "text/plain": [
       "(56, 78, 29, 100, 56, 78, 29, 100)"
      ]
     },
     "execution_count": 123,
     "metadata": {},
     "output_type": "execute_result"
    }
   ],
   "source": [
    "# 여러 개의 튜플 아이템을 합쳐서 새로운 튜플로 구성하기 : +\n",
    "x + x"
   ]
  },
  {
   "cell_type": "code",
   "execution_count": 125,
   "id": "9810c3a6",
   "metadata": {},
   "outputs": [
    {
     "data": {
      "text/plain": [
       "(56, 78, 29, 100, 56, 78, 29, 100, 56, 78, 29, 100, 56, 78, 29, 100)"
      ]
     },
     "execution_count": 125,
     "metadata": {},
     "output_type": "execute_result"
    }
   ],
   "source": [
    "# 한 개의 튜플을 반복해서 확장해서 새로운 튜플 만들기 : *\n",
    "x * 4"
   ]
  },
  {
   "cell_type": "markdown",
   "id": "50a3eef3",
   "metadata": {},
   "source": [
    "### 5. 수정/삭제 할 수 없는 튜플"
   ]
  },
  {
   "cell_type": "code",
   "execution_count": 126,
   "id": "8bbdc7a8",
   "metadata": {
    "scrolled": false
   },
   "outputs": [
    {
     "ename": "TypeError",
     "evalue": "'tuple' object does not support item assignment",
     "output_type": "error",
     "traceback": [
      "\u001b[1;31m---------------------------------------------------------------------------\u001b[0m",
      "\u001b[1;31mTypeError\u001b[0m                                 Traceback (most recent call last)",
      "\u001b[1;32m<ipython-input-126-2b2ae6b30b31>\u001b[0m in \u001b[0;36m<module>\u001b[1;34m\u001b[0m\n\u001b[0;32m      1\u001b[0m \u001b[1;31m# 수정하기 -> 인덱싱으로 하나의 아이템에 접근해서 수정\u001b[0m\u001b[1;33m\u001b[0m\u001b[1;33m\u001b[0m\u001b[1;33m\u001b[0m\u001b[0m\n\u001b[1;32m----> 2\u001b[1;33m \u001b[0mx\u001b[0m\u001b[1;33m[\u001b[0m\u001b[1;36m0\u001b[0m\u001b[1;33m]\u001b[0m \u001b[1;33m=\u001b[0m \u001b[1;36m0\u001b[0m\u001b[1;33m\u001b[0m\u001b[1;33m\u001b[0m\u001b[0m\n\u001b[0m",
      "\u001b[1;31mTypeError\u001b[0m: 'tuple' object does not support item assignment"
     ]
    }
   ],
   "source": [
    "# 수정하기 -> 인덱싱으로 하나의 아이템에 접근해서 수정\n",
    "x[0] = 0"
   ]
  },
  {
   "cell_type": "code",
   "execution_count": 127,
   "id": "6690d4e2",
   "metadata": {
    "scrolled": true
   },
   "outputs": [
    {
     "ename": "TypeError",
     "evalue": "'tuple' object doesn't support item deletion",
     "output_type": "error",
     "traceback": [
      "\u001b[1;31m---------------------------------------------------------------------------\u001b[0m",
      "\u001b[1;31mTypeError\u001b[0m                                 Traceback (most recent call last)",
      "\u001b[1;32m<ipython-input-127-6a91dd90e118>\u001b[0m in \u001b[0;36m<module>\u001b[1;34m\u001b[0m\n\u001b[0;32m      1\u001b[0m \u001b[1;31m# 삭제하기 - del키워드 + 인덱싱\u001b[0m\u001b[1;33m\u001b[0m\u001b[1;33m\u001b[0m\u001b[1;33m\u001b[0m\u001b[0m\n\u001b[1;32m----> 2\u001b[1;33m \u001b[1;32mdel\u001b[0m \u001b[0mx\u001b[0m\u001b[1;33m[\u001b[0m\u001b[1;36m0\u001b[0m\u001b[1;33m]\u001b[0m\u001b[1;33m\u001b[0m\u001b[1;33m\u001b[0m\u001b[0m\n\u001b[0m",
      "\u001b[1;31mTypeError\u001b[0m: 'tuple' object doesn't support item deletion"
     ]
    }
   ],
   "source": [
    "# 삭제하기 - del키워드 + 인덱싱\n",
    "del x[0]"
   ]
  },
  {
   "cell_type": "code",
   "execution_count": null,
   "id": "de9ac3c7",
   "metadata": {},
   "outputs": [],
   "source": []
  },
  {
   "cell_type": "code",
   "execution_count": null,
   "id": "1ef8d914",
   "metadata": {},
   "outputs": [],
   "source": []
  }
 ],
 "metadata": {
  "kernelspec": {
   "display_name": "Python 3",
   "language": "python",
   "name": "python3"
  },
  "language_info": {
   "codemirror_mode": {
    "name": "ipython",
    "version": 3
   },
   "file_extension": ".py",
   "mimetype": "text/x-python",
   "name": "python",
   "nbconvert_exporter": "python",
   "pygments_lexer": "ipython3",
   "version": "3.8.8"
  }
 },
 "nbformat": 4,
 "nbformat_minor": 5
}
