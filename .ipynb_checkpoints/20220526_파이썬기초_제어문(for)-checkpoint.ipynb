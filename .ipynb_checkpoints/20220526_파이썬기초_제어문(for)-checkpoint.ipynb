{
 "cells": [
  {
   "cell_type": "markdown",
   "id": "7abdddaa",
   "metadata": {},
   "source": [
    "# << 제어문 >>\n",
    "\n",
    "\n",
    "\n",
    "# 2-2. for 반복문\n",
    "\n",
    "자료형(리스트, 튜플, 문자열)의 모든 아이템에 대하여 처음부터 마지막까지 차례대로 접근하여 실행문을 적용한다.\n",
    "\n",
    "▶ 기본 문법 \n",
    "\n",
    "        for 임시변수 in 자료형 :\n",
    "            수행할 문장1\n",
    "            수행할 문장2\n",
    "            ...\n",
    "            \n",
    "\n",
    "▶ 임시변수 \n",
    "\n",
    "        - for 반복문이 실행되면 자료형의 아이템이 차례대로 임시변수에 할당된다.\n",
    "        \n",
    "        - 기본적으로 변수는 할당문이 존재해야 하지만 임시변수는 할당문이 필요 없는 객체이다.\n",
    "        "
   ]
  },
  {
   "cell_type": "code",
   "execution_count": 11,
   "id": "a5ad6d8b",
   "metadata": {},
   "outputs": [
    {
     "name": "stdout",
     "output_type": "stream",
     "text": [
      "4\n",
      "Hello world4\n",
      "--------------\n",
      "5\n",
      "Hello world5\n",
      "--------------\n",
      "6\n",
      "Hello world6\n",
      "--------------\n"
     ]
    }
   ],
   "source": [
    "# 하나의 아이템에 접근 : 리스트 자료형\n",
    "a = [4, 5, 6]\n",
    "for i in a:\n",
    "    print(i)\n",
    "    print(\"Hello world\" + str(i))\n",
    "    print(\"--------------\")"
   ]
  },
  {
   "cell_type": "code",
   "execution_count": 12,
   "id": "5629c170",
   "metadata": {},
   "outputs": [
    {
     "name": "stdout",
     "output_type": "stream",
     "text": [
      "10\n",
      "20\n",
      "30\n"
     ]
    }
   ],
   "source": [
    "# 하나의 아이템에 접근 : 튜플 자료형\n",
    "tu = 10, 20, 30\n",
    "for i in tu:\n",
    "    print(i)"
   ]
  },
  {
   "cell_type": "code",
   "execution_count": 13,
   "id": "2852304e",
   "metadata": {},
   "outputs": [
    {
     "name": "stdout",
     "output_type": "stream",
     "text": [
      "a\n",
      "b\n",
      "c\n",
      "d\n"
     ]
    }
   ],
   "source": [
    "# 하나의 아이템에 접근 : 문자열\n",
    "for t in 'abcd':\n",
    "    print(t)"
   ]
  },
  {
   "cell_type": "code",
   "execution_count": 14,
   "id": "6d25010d",
   "metadata": {},
   "outputs": [
    {
     "data": {
      "text/plain": [
       "True"
      ]
     },
     "execution_count": 14,
     "metadata": {},
     "output_type": "execute_result"
    }
   ],
   "source": [
    "# 하나의 아이템에 접근 : 딕셔너리 자료형\n",
    "# 딕셔너리 자료형에 대해서는 반복문 접근시 key값 기준으로 접근함\n",
    "# 따라서 딕셔너리접근은 .keys()의 요소에 접근하는것과 결과가 동일함\n",
    "d1 = {'a':1, 'b':2, 'c':3}\n",
    "'a' in d1"
   ]
  },
  {
   "cell_type": "code",
   "execution_count": 15,
   "id": "37d7bc9f",
   "metadata": {},
   "outputs": [
    {
     "name": "stdout",
     "output_type": "stream",
     "text": [
      "a\n",
      "b\n",
      "c\n"
     ]
    }
   ],
   "source": [
    "for k in d1:\n",
    "    print(k)"
   ]
  },
  {
   "cell_type": "code",
   "execution_count": 16,
   "id": "aa1e2aa0",
   "metadata": {},
   "outputs": [
    {
     "name": "stdout",
     "output_type": "stream",
     "text": [
      "a\n",
      "b\n",
      "c\n"
     ]
    }
   ],
   "source": [
    "for k in d1.keys():\n",
    "    print(k)"
   ]
  },
  {
   "cell_type": "code",
   "execution_count": 17,
   "id": "c384d639",
   "metadata": {},
   "outputs": [
    {
     "name": "stdout",
     "output_type": "stream",
     "text": [
      "a 1\n",
      "b 2\n",
      "c 3\n"
     ]
    }
   ],
   "source": [
    "# dict 타입에서 value값 가져오기(.value()를 사용하지 않고 가져오기)\n",
    "for k in d1:\n",
    "    print(k, d1[k])"
   ]
  },
  {
   "cell_type": "code",
   "execution_count": 18,
   "id": "b7581fd0",
   "metadata": {},
   "outputs": [
    {
     "name": "stdout",
     "output_type": "stream",
     "text": [
      "1\n",
      "2\n",
      "3\n"
     ]
    }
   ],
   "source": [
    "# values()를 이용해서 value값만 조회\n",
    "for k in d1.values():\n",
    "    print(k)"
   ]
  },
  {
   "cell_type": "code",
   "execution_count": null,
   "id": "b8a4c253",
   "metadata": {},
   "outputs": [],
   "source": []
  },
  {
   "cell_type": "code",
   "execution_count": null,
   "id": "5824eba7",
   "metadata": {},
   "outputs": [],
   "source": []
  },
  {
   "cell_type": "code",
   "execution_count": null,
   "id": "a3e63f2f",
   "metadata": {},
   "outputs": [],
   "source": []
  }
 ],
 "metadata": {
  "kernelspec": {
   "display_name": "Python 3",
   "language": "python",
   "name": "python3"
  },
  "language_info": {
   "codemirror_mode": {
    "name": "ipython",
    "version": 3
   },
   "file_extension": ".py",
   "mimetype": "text/x-python",
   "name": "python",
   "nbconvert_exporter": "python",
   "pygments_lexer": "ipython3",
   "version": "3.8.8"
  }
 },
 "nbformat": 4,
 "nbformat_minor": 5
}
