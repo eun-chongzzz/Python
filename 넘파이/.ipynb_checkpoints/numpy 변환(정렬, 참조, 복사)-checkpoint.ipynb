{
 "cells": [
  {
   "cell_type": "code",
   "execution_count": 6,
   "id": "adf80867",
   "metadata": {},
   "outputs": [],
   "source": [
    "# (공통) 라이브러리 불러오기 및 사용자 함수 정의\n",
    "import numpy as np\n",
    "\n",
    "def np_print(nparr):\n",
    "    print('''\n",
    "    type : {}  \n",
    "    shape : {}  \n",
    "    dimension : {}  \n",
    "    dtype : {}\n",
    "    data :\\n {}\n",
    "    '''.format(type(nparr), nparr.shape, nparr.ndim, nparr.dtype, nparr))"
   ]
  },
  {
   "cell_type": "markdown",
   "id": "df68388a",
   "metadata": {},
   "source": [
    "### 배열 정렬\n",
    "\n",
    "- sort(axis = -1) 메서드 : axis를 기준으로 요소를 오름차순 정렬\n",
    "    - 기본값(axis = -1) : 현재 배열의 마지막 axis\n",
    "    - axis = 0 : 열 단위 정렬\n",
    "    - axis = 1 : 행 단위 정렬\n",
    "    - 원본 객체에 정렬 결과가 반영됨\n",
    "    \n",
    "- np.sort(axis = -1) : axis를 기준으로 요소를 오름차순 정렬\n",
    "    - 기본값(axis = -1) : 현재 배열의 마지막 axis\n",
    "    - axis = 0 : 열 단위 정렬\n",
    "    - axis = 1 : 행 단위 정렬\n",
    "    - 정렬된 새로운 배열을 반환함\n",
    "    \n",
    "- np.argsort(arr) : 정렬 순서를 반환\n",
    "    - 기본값(axis = -1) : 현재 배열의 마지막 axis\n",
    "    - axis = 0 : 열 단위 정렬\n",
    "    - axis = 1 : 행 단위 정렬"
   ]
  },
  {
   "cell_type": "code",
   "execution_count": 7,
   "id": "417773c6",
   "metadata": {},
   "outputs": [
    {
     "name": "stdout",
     "output_type": "stream",
     "text": [
      "\n",
      "    type : <class 'numpy.ndarray'>  \n",
      "    shape : (5,)  \n",
      "    dimension : 1  \n",
      "    dtype : int32\n",
      "    data :\n",
      " [0 1 2 3 4]\n",
      "    \n"
     ]
    }
   ],
   "source": [
    "# 1차원 배열 생성\n",
    "x = np.arange(0, 5)\n",
    "np_print(x)"
   ]
  },
  {
   "cell_type": "code",
   "execution_count": 8,
   "id": "4d50aafe",
   "metadata": {},
   "outputs": [
    {
     "data": {
      "text/plain": [
       "array([4, 3, 2, 1, 0])"
      ]
     },
     "execution_count": 8,
     "metadata": {},
     "output_type": "execute_result"
    }
   ],
   "source": [
    "# 기존 파이썬 문법으로 순번 뒤집기\n",
    "x[::-1]"
   ]
  },
  {
   "cell_type": "code",
   "execution_count": 25,
   "id": "8d3f05aa",
   "metadata": {},
   "outputs": [
    {
     "name": "stdout",
     "output_type": "stream",
     "text": [
      "\n",
      "    type : <class 'numpy.ndarray'>  \n",
      "    shape : (5,)  \n",
      "    dimension : 1  \n",
      "    dtype : int32\n",
      "    data :\n",
      " [9 5 2 7 3]\n",
      "    \n"
     ]
    }
   ],
   "source": [
    "# 오름차순 정렬 테스트용 난수배열 만들기\n",
    "# 0이상 9이하 숫자 5개를 난수생성으로 만들어서 찍어주세요\n",
    "a = np.random.randint(0, 10, 5)\n",
    "np_print(a)"
   ]
  },
  {
   "cell_type": "code",
   "execution_count": 26,
   "id": "20e8b0e3",
   "metadata": {},
   "outputs": [
    {
     "data": {
      "text/plain": [
       "array([2, 3, 5, 7, 9])"
      ]
     },
     "execution_count": 26,
     "metadata": {},
     "output_type": "execute_result"
    }
   ],
   "source": [
    "# np.sort(자료) -> 원본 자료가 바뀌지는 않음\n",
    "np.sort(a)"
   ]
  },
  {
   "cell_type": "code",
   "execution_count": 27,
   "id": "c6e8b27b",
   "metadata": {},
   "outputs": [],
   "source": [
    "# 자료.sort() -> 원본자료 변경\n",
    "a.sort()"
   ]
  },
  {
   "cell_type": "code",
   "execution_count": 28,
   "id": "23f5224d",
   "metadata": {},
   "outputs": [
    {
     "data": {
      "text/plain": [
       "array([2, 3, 5, 7, 9])"
      ]
     },
     "execution_count": 28,
     "metadata": {},
     "output_type": "execute_result"
    }
   ],
   "source": [
    "a"
   ]
  },
  {
   "cell_type": "code",
   "execution_count": 29,
   "id": "904517df",
   "metadata": {},
   "outputs": [
    {
     "name": "stdout",
     "output_type": "stream",
     "text": [
      "\n",
      "    type : <class 'numpy.ndarray'>  \n",
      "    shape : (5,)  \n",
      "    dimension : 1  \n",
      "    dtype : int32\n",
      "    data :\n",
      " [4 7 1 2 6]\n",
      "    \n"
     ]
    }
   ],
   "source": [
    "b = np.random.randint(0, 10, 5)\n",
    "np_print(b)"
   ]
  },
  {
   "cell_type": "code",
   "execution_count": 30,
   "id": "22a4ad8a",
   "metadata": {},
   "outputs": [
    {
     "data": {
      "text/plain": [
       "array([2, 3, 0, 4, 1], dtype=int64)"
      ]
     },
     "execution_count": 30,
     "metadata": {},
     "output_type": "execute_result"
    }
   ],
   "source": [
    "# np.argsort(자료)는 내부의 아이템들을 오름차순 정렬하기 위해서는\n",
    "# 현재 몇 번 인덱스에 있는 자료를 어디에 배치해야 하는지 보여줌\n",
    "np.argsort(b)"
   ]
  },
  {
   "cell_type": "code",
   "execution_count": 31,
   "id": "0d08fc22",
   "metadata": {},
   "outputs": [
    {
     "name": "stdout",
     "output_type": "stream",
     "text": [
      "\n",
      "    type : <class 'numpy.ndarray'>  \n",
      "    shape : (3, 3)  \n",
      "    dimension : 2  \n",
      "    dtype : float64\n",
      "    data :\n",
      " [[0.59378844 0.27296927 0.13686745]\n",
      " [0.56137358 0.05425992 0.3117071 ]\n",
      " [0.94791064 0.46205949 0.48128334]]\n",
      "    \n",
      "\n",
      "    type : <class 'numpy.ndarray'>  \n",
      "    shape : (3, 3)  \n",
      "    dimension : 2  \n",
      "    dtype : float64\n",
      "    data :\n",
      " [[0.07115432 0.52153284 0.71596899]\n",
      " [0.65541953 0.95053002 0.28819532]\n",
      " [0.05008513 0.79743246 0.43807688]]\n",
      "    \n"
     ]
    }
   ],
   "source": [
    "# 0이상 1미만의 범위에서 무작위로 실수값을 가지는 3행 3열의 배열 2개 생성\n",
    "# np.random.random을 이용하세요\n",
    "a = np.random.random((3,3))\n",
    "b = np.random.random(9).reshape(3,3)\n",
    "np_print(a)\n",
    "np_print(b)"
   ]
  },
  {
   "cell_type": "markdown",
   "id": "27bf88e4",
   "metadata": {},
   "source": [
    "#### 예) 2차원 배열의 경우\n",
    "\n",
    "기본값 axis = -1 <br>\n",
    "현재 배열의 axis = 0, 1 <br>\n",
    "마지막 axis = 1 (열별 정렬)\n",
    "\n",
    "<img src='img/sortaxis1.jpg' width='200' height='200' align='left'>"
   ]
  },
  {
   "cell_type": "code",
   "execution_count": 32,
   "id": "952623a6",
   "metadata": {},
   "outputs": [
    {
     "name": "stdout",
     "output_type": "stream",
     "text": [
      "\n",
      "    type : <class 'numpy.ndarray'>  \n",
      "    shape : (3, 3)  \n",
      "    dimension : 2  \n",
      "    dtype : float64\n",
      "    data :\n",
      " [[0.59378844 0.27296927 0.13686745]\n",
      " [0.56137358 0.05425992 0.3117071 ]\n",
      " [0.94791064 0.46205949 0.48128334]]\n",
      "    \n"
     ]
    },
    {
     "data": {
      "text/plain": [
       "array([[0.13686745, 0.27296927, 0.59378844],\n",
       "       [0.05425992, 0.3117071 , 0.56137358],\n",
       "       [0.46205949, 0.48128334, 0.94791064]])"
      ]
     },
     "execution_count": 32,
     "metadata": {},
     "output_type": "execute_result"
    }
   ],
   "source": [
    "# 기본 방향 (axis=-1) => 열별 정렬\n",
    "np_print(a)\n",
    "np.sort(a)"
   ]
  },
  {
   "cell_type": "markdown",
   "id": "764d1cca",
   "metadata": {},
   "source": [
    "##### axis = 0(열별정렬)\n",
    "\n",
    "<img src='img/sortaxis0.jpg' width='200' height='200' align='left'>"
   ]
  },
  {
   "cell_type": "code",
   "execution_count": 33,
   "id": "b2f24b67",
   "metadata": {},
   "outputs": [
    {
     "name": "stdout",
     "output_type": "stream",
     "text": [
      "\n",
      "    type : <class 'numpy.ndarray'>  \n",
      "    shape : (3, 3)  \n",
      "    dimension : 2  \n",
      "    dtype : float64\n",
      "    data :\n",
      " [[0.59378844 0.27296927 0.13686745]\n",
      " [0.56137358 0.05425992 0.3117071 ]\n",
      " [0.94791064 0.46205949 0.48128334]]\n",
      "    \n"
     ]
    },
    {
     "data": {
      "text/plain": [
       "array([[0.56137358, 0.05425992, 0.13686745],\n",
       "       [0.59378844, 0.27296927, 0.3117071 ],\n",
       "       [0.94791064, 0.46205949, 0.48128334]])"
      ]
     },
     "execution_count": 33,
     "metadata": {},
     "output_type": "execute_result"
    }
   ],
   "source": [
    "# 열별 정렬을 시켜보세요.\n",
    "np_print(a)\n",
    "np.sort(a, axis=0)"
   ]
  },
  {
   "cell_type": "markdown",
   "id": "cd4750dc",
   "metadata": {},
   "source": [
    "## 인덱싱(Indexing), 슬라이싱(Slicing)\n",
    "\n",
    "### 1. 인덱싱 : 하나의 요소에 대해 참조\n",
    "- 각 차원에 따라 배열이 참조하는 인덱스의 개수가 다름\n",
    "    - 1차원 배열 : 인덱스 1개\n",
    "    - 2차원 배열 : 인덱스 2개\n",
    "    - 3차원 배열 : 인덱스 3개\n",
    "\n",
    "- 인덱싱으로 참조한 요소에 대해 수정 가능\n",
    "\n",
    "- 인덱스 배열을 전달하여 여러 개의 요소 참조"
   ]
  },
  {
   "cell_type": "code",
   "execution_count": 34,
   "id": "55ea2ad5",
   "metadata": {},
   "outputs": [
    {
     "name": "stdout",
     "output_type": "stream",
     "text": [
      "\n",
      "    type : <class 'numpy.ndarray'>  \n",
      "    shape : (24,)  \n",
      "    dimension : 1  \n",
      "    dtype : int32\n",
      "    data :\n",
      " [ 0  1  2  3  4  5  6  7  8  9 10 11 12 13 14 15 16 17 18 19 20 21 22 23]\n",
      "    \n"
     ]
    }
   ],
   "source": [
    "# 0 ~ 23 구간으로 1씩 증가하는 값을 아이템으로 가지는 1차원 배열을 생성해주세요\n",
    "arr1 = np.arange(0, 24)\n",
    "np_print(arr1)"
   ]
  },
  {
   "cell_type": "code",
   "execution_count": 35,
   "id": "0f15ee7f",
   "metadata": {},
   "outputs": [
    {
     "data": {
      "text/plain": [
       "1"
      ]
     },
     "execution_count": 35,
     "metadata": {},
     "output_type": "execute_result"
    }
   ],
   "source": [
    "# 1차원 배열 인덱싱 : 1차원 인덱스 요소 접근\n",
    "arr1[1]"
   ]
  },
  {
   "cell_type": "code",
   "execution_count": 36,
   "id": "44b0451b",
   "metadata": {},
   "outputs": [
    {
     "data": {
      "text/plain": [
       "23"
      ]
     },
     "execution_count": 36,
     "metadata": {},
     "output_type": "execute_result"
    }
   ],
   "source": [
    "# 1차원 배열 인덱싱 : 마지막 요소 접근\n",
    "arr1[-1]"
   ]
  },
  {
   "cell_type": "code",
   "execution_count": 37,
   "id": "7b121193",
   "metadata": {},
   "outputs": [
    {
     "data": {
      "text/plain": [
       "array([  0,   1,   2,   3,   4,   5,   6,   7,   8,   9,  10,  11,  12,\n",
       "        13,  14,  15,  16,  17,  18,  19,  20,  21,  22, 100])"
      ]
     },
     "execution_count": 37,
     "metadata": {},
     "output_type": "execute_result"
    }
   ],
   "source": [
    "# 1차원 배열 인덱싱을 통한 값 수정\n",
    "arr1[-1] = 100\n",
    "arr1"
   ]
  },
  {
   "cell_type": "code",
   "execution_count": 38,
   "id": "e41beb78",
   "metadata": {},
   "outputs": [
    {
     "name": "stdout",
     "output_type": "stream",
     "text": [
      "\n",
      "    type : <class 'numpy.ndarray'>  \n",
      "    shape : (4, 6)  \n",
      "    dimension : 2  \n",
      "    dtype : int32\n",
      "    data :\n",
      " [[  0   1   2   3   4   5]\n",
      " [  6   7   8   9  10  11]\n",
      " [ 12  13  14  15  16  17]\n",
      " [ 18  19  20  21  22 100]]\n",
      "    \n"
     ]
    }
   ],
   "source": [
    "# 배열 arr1을 이용해 4 * 6 형태의 2차원 배열 arr2 만들기\n",
    "arr2 = arr1.reshape(4, 6)\n",
    "np_print(arr2)"
   ]
  },
  {
   "cell_type": "code",
   "execution_count": 41,
   "id": "b9601828",
   "metadata": {},
   "outputs": [
    {
     "data": {
      "text/plain": [
       "array([0, 1, 2, 3, 4, 5])"
      ]
     },
     "execution_count": 41,
     "metadata": {},
     "output_type": "execute_result"
    }
   ],
   "source": [
    "# 2차원 배열 인덱싱 : 2차원배열[행인덱스, (열인덱스)]\n",
    "# 하나의 행에 접근 : 1행\n",
    "arr2[0]"
   ]
  },
  {
   "cell_type": "code",
   "execution_count": 43,
   "id": "db445e44",
   "metadata": {},
   "outputs": [
    {
     "data": {
      "text/plain": [
       "array([ 0,  6, 12, 18])"
      ]
     },
     "execution_count": 43,
     "metadata": {},
     "output_type": "execute_result"
    }
   ],
   "source": [
    "# 하나의 열에 접근 : 모든 행에 대해서 하나의 열에 접근\n",
    "# 반환값 : 1d array\n",
    "arr2[:, 0]"
   ]
  },
  {
   "cell_type": "code",
   "execution_count": 45,
   "id": "88bdb2c9",
   "metadata": {},
   "outputs": [
    {
     "data": {
      "text/plain": [
       "14"
      ]
     },
     "execution_count": 45,
     "metadata": {},
     "output_type": "execute_result"
    }
   ],
   "source": [
    "# 하나의 값에 접근\n",
    "# 3행 3열(0번째부터 세서 3행)\n",
    "arr2[2,2] # arr2[2][2]"
   ]
  },
  {
   "cell_type": "code",
   "execution_count": 49,
   "id": "4135b2f6",
   "metadata": {},
   "outputs": [
    {
     "name": "stdout",
     "output_type": "stream",
     "text": [
      "[[  0   1   2   3   4   5]\n",
      " [  6   7   8   9  10  11]\n",
      " [ 12  13  14  15  16  17]\n",
      " [ 18  19  20  21  22 100]]\n",
      "----------------------------\n",
      "[[  0   1   2   3   4   5]\n",
      " [ 18  19  20  21  22 100]]\n"
     ]
    }
   ],
   "source": [
    "# 여러개의 행 조회(2차원배열로 조회)\n",
    "print(arr2)\n",
    "print('----------------------------')\n",
    "print(arr2[[0, 3]])"
   ]
  },
  {
   "cell_type": "code",
   "execution_count": 50,
   "id": "7254f035",
   "metadata": {},
   "outputs": [
    {
     "name": "stdout",
     "output_type": "stream",
     "text": [
      "[[ 0  2]\n",
      " [ 6  8]\n",
      " [12 14]\n",
      " [18 20]]\n",
      "----------------------------\n",
      "[[  0   1   2   3   4   5]\n",
      " [  6   7   8   9  10  11]\n",
      " [ 12  13  14  15  16  17]\n",
      " [ 18  19  20  21  22 100]]\n"
     ]
    }
   ],
   "source": [
    "# 여러 개의 열 조회\n",
    "print(arr2[:,[0,2]])\n",
    "print('----------------------------')\n",
    "print(arr2)"
   ]
  },
  {
   "cell_type": "code",
   "execution_count": 51,
   "id": "7e9076a5",
   "metadata": {},
   "outputs": [
    {
     "data": {
      "text/plain": [
       "array([[  0,   1,   2,   3,   4,   5],\n",
       "       [  6,   7,   8,   9,  10,  11],\n",
       "       [  9,   9,   9,   9,   9,   9],\n",
       "       [ 18,  19,  20,  21,  22, 100]])"
      ]
     },
     "execution_count": 51,
     "metadata": {},
     "output_type": "execute_result"
    }
   ],
   "source": [
    "# 2차원 배열 인덱싱을 통한 값 수정\n",
    "# 하나의 행/열에 대해 모두 동일한 값으로 수정 : 전달하려는 값을 스칼라값으로 전달\n",
    "# 서로 다른 값으로 수정 : 배열 요소 개수에 맞춰서 전달\n",
    "# 하나의 값을 수정하는 예시\n",
    "arr2[2] = 9\n",
    "arr2"
   ]
  },
  {
   "cell_type": "code",
   "execution_count": 52,
   "id": "eefcdf93",
   "metadata": {},
   "outputs": [
    {
     "data": {
      "text/plain": [
       "array([[  0,   1,   2,   3,   4,   5],\n",
       "       [  9,   9,   9,  99,  99,  99],\n",
       "       [  9,   9,   9,   9,   9,   9],\n",
       "       [ 18,  19,  20,  21,  22, 100]])"
      ]
     },
     "execution_count": 52,
     "metadata": {},
     "output_type": "execute_result"
    }
   ],
   "source": [
    "# 단일 값이 아닌 여러 값을 대입하고 싶다면\n",
    "arr2[1] = [9, 9, 9, 99, 99, 99]\n",
    "arr2"
   ]
  },
  {
   "cell_type": "code",
   "execution_count": 66,
   "id": "187fc1de",
   "metadata": {},
   "outputs": [
    {
     "name": "stdout",
     "output_type": "stream",
     "text": [
      "\n",
      "    type : <class 'numpy.ndarray'>  \n",
      "    shape : (2, 4, 3)  \n",
      "    dimension : 3  \n",
      "    dtype : int32\n",
      "    data :\n",
      " [[[ 0  1  2]\n",
      "  [ 3  4  5]\n",
      "  [ 6  7  8]\n",
      "  [ 9 10 11]]\n",
      "\n",
      " [[12 13 14]\n",
      "  [15 16 17]\n",
      "  [18 19 20]\n",
      "  [21 22 23]]]\n",
      "    \n"
     ]
    }
   ],
   "source": [
    "# 3차원 배열 생성\n",
    "# 구조 : 2개의 층(면), 4행 3열\n",
    "# np.arange() => 0 ~ 23까지 24개를 집어넣고 3차원으로 재조정해보세요.\n",
    "arr3 = np.arange(24).reshape((2, 4, 3))\n",
    "np_print(arr3)"
   ]
  },
  {
   "cell_type": "code",
   "execution_count": 67,
   "id": "cdc78d12",
   "metadata": {},
   "outputs": [
    {
     "data": {
      "text/plain": [
       "array([[ 0,  1,  2],\n",
       "       [ 3,  4,  5],\n",
       "       [ 6,  7,  8],\n",
       "       [ 9, 10, 11]])"
      ]
     },
     "execution_count": 67,
     "metadata": {},
     "output_type": "execute_result"
    }
   ],
   "source": [
    "# 3차원 배열 인덱싱 : arr[면, 행, 열]\n",
    "# 0번째 면(페이지)에 접근\n",
    "arr3[0]"
   ]
  },
  {
   "cell_type": "code",
   "execution_count": 68,
   "id": "f4053982",
   "metadata": {},
   "outputs": [
    {
     "data": {
      "text/plain": [
       "array([3, 4, 5])"
      ]
     },
     "execution_count": 68,
     "metadata": {},
     "output_type": "execute_result"
    }
   ],
   "source": [
    "# 0번째 면, 첫 번째 행에 접근시켜주세요.\n",
    "arr3[0,1]"
   ]
  },
  {
   "cell_type": "code",
   "execution_count": 69,
   "id": "3c84e6ca",
   "metadata": {},
   "outputs": [
    {
     "data": {
      "text/plain": [
       "20"
      ]
     },
     "execution_count": 69,
     "metadata": {},
     "output_type": "execute_result"
    }
   ],
   "source": [
    "# 1번째 면, 2번 행, 2번 열에 접근\n",
    "arr3[1, 2, 2]"
   ]
  },
  {
   "cell_type": "code",
   "execution_count": 70,
   "id": "50745844",
   "metadata": {},
   "outputs": [],
   "source": [
    "# 3차원 배열 역시 배열 인덱싱으로 값 수정이 가능합니다.\n",
    "# 스칼라값을 이용한 변경\n",
    "# arr3의 2번면(0번째부터 세면 1번째)을 0을로 일괄 수정해주세요.\n",
    "arr3[1] = 0"
   ]
  },
  {
   "cell_type": "code",
   "execution_count": 71,
   "id": "09910abd",
   "metadata": {},
   "outputs": [
    {
     "data": {
      "text/plain": [
       "array([[[ 0,  1,  2],\n",
       "        [ 3,  4,  5],\n",
       "        [ 6,  7,  8],\n",
       "        [ 9, 10, 11]],\n",
       "\n",
       "       [[ 0,  0,  0],\n",
       "        [ 0,  0,  0],\n",
       "        [ 0,  0,  0],\n",
       "        [ 0,  0,  0]]])"
      ]
     },
     "execution_count": 71,
     "metadata": {},
     "output_type": "execute_result"
    }
   ],
   "source": [
    "arr3"
   ]
  },
  {
   "cell_type": "code",
   "execution_count": 72,
   "id": "2221a50f",
   "metadata": {},
   "outputs": [
    {
     "data": {
      "text/plain": [
       "array([1, 2, 3])"
      ]
     },
     "execution_count": 72,
     "metadata": {},
     "output_type": "execute_result"
    }
   ],
   "source": [
    "# 하나의 면에 대해 서로 다른 값으로 수정 : 요소의 값을 같은 구조, 개수로 전달\n",
    "# [1, 1]의 값이 현재 0, 0, 0인데 각각 1, 2, 3으로 바꿔주세요\n",
    "arr3[1, 1] = [1, 2, 3]\n",
    "arr3[1, 1]"
   ]
  },
  {
   "cell_type": "code",
   "execution_count": 73,
   "id": "2c098dd7",
   "metadata": {},
   "outputs": [
    {
     "data": {
      "text/plain": [
       "array([[[10, 20, 30],\n",
       "        [40, 50, 60],\n",
       "        [ 0,  0,  0],\n",
       "        [ 0,  0,  0]],\n",
       "\n",
       "       [[ 0,  0,  0],\n",
       "        [ 1,  2,  3],\n",
       "        [ 0,  0,  0],\n",
       "        [ 0,  0,  0]]])"
      ]
     },
     "execution_count": 73,
     "metadata": {},
     "output_type": "execute_result"
    }
   ],
   "source": [
    "# 한 면을 통쨰로 바꾸고 싶다면 같은 크기의 2차원 배열을 대입해줍니다.\n",
    "arr3[0] = [[10, 20, 30],\n",
    "          [40, 50, 60],\n",
    "          [0, 0, 0],\n",
    "          [0, 0 ,0]]\n",
    "arr3"
   ]
  },
  {
   "cell_type": "code",
   "execution_count": 74,
   "id": "27935635",
   "metadata": {},
   "outputs": [
    {
     "name": "stdout",
     "output_type": "stream",
     "text": [
      "[[10 20 30]\n",
      " [40 50 60]\n",
      " [ 0  0  0]\n",
      " [ 0  0  0]]\n",
      "===================\n",
      "[[[10 20 30]\n",
      "  [40 50 60]\n",
      "  [ 0  0  0]]\n",
      "\n",
      " [[10 20 30]\n",
      "  [ 0  0  0]\n",
      "  [ 0  0  0]]]\n"
     ]
    }
   ],
   "source": [
    "# 여러개의 인덱싱을 배열로 전달\n",
    "# (행0, 열0), (행1, 열1), (행2, 열2)\n",
    "# 3차원 배열일 경우에 : [페이지, [[0, 1, 2], [0, 1 ,2]]]\n",
    "# arr3[면, 행, 열] -> 만약 여러 단위를 조회할 때는 이중리스트로 입력\n",
    "# 삼중리스트 입력시 이중리스트 요소를 반복\n",
    "print(arr3[0])\n",
    "print('===================')\n",
    "print(arr3[0,[[0, 1, 2], [0, 2, 3]]])"
   ]
  },
  {
   "cell_type": "code",
   "execution_count": null,
   "id": "7b623f20",
   "metadata": {},
   "outputs": [],
   "source": []
  },
  {
   "cell_type": "code",
   "execution_count": null,
   "id": "29d8ffa2",
   "metadata": {},
   "outputs": [],
   "source": []
  },
  {
   "cell_type": "code",
   "execution_count": null,
   "id": "91399666",
   "metadata": {},
   "outputs": [],
   "source": []
  },
  {
   "cell_type": "code",
   "execution_count": null,
   "id": "82ccc5e6",
   "metadata": {},
   "outputs": [],
   "source": []
  },
  {
   "cell_type": "code",
   "execution_count": null,
   "id": "5ada6a31",
   "metadata": {},
   "outputs": [],
   "source": []
  },
  {
   "cell_type": "code",
   "execution_count": null,
   "id": "0b815e21",
   "metadata": {},
   "outputs": [],
   "source": []
  }
 ],
 "metadata": {
  "kernelspec": {
   "display_name": "Python 3",
   "language": "python",
   "name": "python3"
  },
  "language_info": {
   "codemirror_mode": {
    "name": "ipython",
    "version": 3
   },
   "file_extension": ".py",
   "mimetype": "text/x-python",
   "name": "python",
   "nbconvert_exporter": "python",
   "pygments_lexer": "ipython3",
   "version": "3.8.8"
  }
 },
 "nbformat": 4,
 "nbformat_minor": 5
}
