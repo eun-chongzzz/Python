{
 "cells": [
  {
   "cell_type": "markdown",
   "id": "3be92588",
   "metadata": {},
   "source": [
    "# 데이터 타입\n",
    "\n",
    "## > 숫자형\n",
    "- 종류\n",
    "    - 정수 : 0, 양수, 음수인 숫자\n",
    "    - 실수 : 소수점을 포함하는 숫자\n",
    "    - 8진수 : 0o 또는 00(왼쪽 숫자0, 오른쪽 알파벳o) 으로 시작 : 0o34, 0o5\n",
    "    - 16진수 (0x로시작) : 0x2A, 0xFF"
   ]
  },
  {
   "cell_type": "markdown",
   "id": "aae3ba60",
   "metadata": {},
   "source": [
    "## 정수형"
   ]
  },
  {
   "cell_type": "code",
   "execution_count": 1,
   "id": "2b16c989",
   "metadata": {},
   "outputs": [],
   "source": [
    "# 양수, 음수, 0\n",
    "a = 1\n",
    "b = -20\n",
    "c = 0"
   ]
  },
  {
   "cell_type": "code",
   "execution_count": 5,
   "id": "8fa42ced",
   "metadata": {},
   "outputs": [
    {
     "name": "stdout",
     "output_type": "stream",
     "text": [
      "<class 'int'> <class 'int'> <class 'int'>\n"
     ]
    }
   ],
   "source": [
    "# 정수 타입 : 타입(데이터)를 확인하는 내장함수 type()\n",
    "type(a)\n",
    "type(b)\n",
    "print(type(a), type(b), type(c)) "
   ]
  },
  {
   "cell_type": "markdown",
   "id": "b45b1607",
   "metadata": {},
   "source": [
    "# 실수형"
   ]
  },
  {
   "cell_type": "code",
   "execution_count": 7,
   "id": "2d44f3af",
   "metadata": {},
   "outputs": [],
   "source": [
    "# 양의 실수, 음의 실수, : float\n",
    "a = 1.3\n",
    "b = -2.4\n",
    "c = 0.0"
   ]
  },
  {
   "cell_type": "code",
   "execution_count": 8,
   "id": "14df3f07",
   "metadata": {},
   "outputs": [
    {
     "name": "stdout",
     "output_type": "stream",
     "text": [
      "<class 'float'> <class 'float'> <class 'float'>\n"
     ]
    }
   ],
   "source": [
    "# 타입 확인\n",
    "print(type(a), type(b), type(c))"
   ]
  },
  {
   "cell_type": "markdown",
   "id": "a43c5ce2",
   "metadata": {},
   "source": [
    "## > 연산자\n",
    "- 산술 : +, -, *, /, //(몫), %(나머지), **(제곱)\n",
    "- 비교 : ==(값이 같은지), !=(값이 다른지), <=, >=, <, >\n",
    "- 논리 : and, or\n",
    "- 할당 : =, +=(누적합), -=(누적차), *=(누적곱), /=(몫만 남기기), %=(나머지만 남기기)"
   ]
  },
  {
   "cell_type": "markdown",
   "id": "266ea28f",
   "metadata": {},
   "source": [
    "### 1) 산술연산자 : 숫자를 계산하기 위한 문법 기호"
   ]
  },
  {
   "cell_type": "code",
   "execution_count": 11,
   "id": "df9f25e6",
   "metadata": {},
   "outputs": [
    {
     "data": {
      "text/plain": [
       "13.4"
      ]
     },
     "execution_count": 11,
     "metadata": {},
     "output_type": "execute_result"
    }
   ],
   "source": [
    "# 더하기 : +\n",
    "10 + 3 # 정수 + 정수 => 정수로 출력\n",
    "13.3 + 2.4 # 실수 + 실수 => 실수\n",
    "10 + 3.4 # 정수 + 실수 => 실수"
   ]
  },
  {
   "cell_type": "code",
   "execution_count": 13,
   "id": "20cd1021",
   "metadata": {},
   "outputs": [
    {
     "data": {
      "text/plain": [
       "-4.7"
      ]
     },
     "execution_count": 13,
     "metadata": {},
     "output_type": "execute_result"
    }
   ],
   "source": [
    "# 빼기 : -\n",
    "10 - 3\n",
    "3 - 7.7"
   ]
  },
  {
   "cell_type": "code",
   "execution_count": 16,
   "id": "b3de8b5e",
   "metadata": {},
   "outputs": [
    {
     "data": {
      "text/plain": [
       "2.0"
      ]
     },
     "execution_count": 16,
     "metadata": {},
     "output_type": "execute_result"
    }
   ],
   "source": [
    "# 나누기 : /\n",
    "# 나누기 결과는 정수 / 정수 여도 실수로 간주됨\n",
    "3 / 3\n",
    "7 / 2\n",
    "5 / 2.5"
   ]
  },
  {
   "cell_type": "code",
   "execution_count": 20,
   "id": "9d47f039",
   "metadata": {},
   "outputs": [
    {
     "data": {
      "text/plain": [
       "-5"
      ]
     },
     "execution_count": 20,
     "metadata": {},
     "output_type": "execute_result"
    }
   ],
   "source": [
    "# 곱하기 : *\n",
    "3 * 4\n",
    "-3 * 5\n",
    "(3 - 4) * 5"
   ]
  },
  {
   "cell_type": "code",
   "execution_count": null,
   "id": "f7459d3b",
   "metadata": {},
   "outputs": [],
   "source": [
    "# 정수 몫만 반환 : // \n",
    "# 나눗셈의 결과값보다 작은 정수 중에 가장 큰 정수\n",
    "# 음수\n",
    "-5 // 4"
   ]
  },
  {
   "cell_type": "code",
   "execution_count": null,
   "id": "11c40a9a",
   "metadata": {},
   "outputs": [],
   "source": [
    "#"
   ]
  },
  {
   "cell_type": "code",
   "execution_count": null,
   "id": "d76f5da0",
   "metadata": {},
   "outputs": [],
   "source": []
  },
  {
   "cell_type": "code",
   "execution_count": null,
   "id": "b2fb7092",
   "metadata": {},
   "outputs": [],
   "source": []
  },
  {
   "cell_type": "code",
   "execution_count": null,
   "id": "0bc909c3",
   "metadata": {},
   "outputs": [],
   "source": []
  },
  {
   "cell_type": "code",
   "execution_count": null,
   "id": "9058d9cd",
   "metadata": {},
   "outputs": [],
   "source": []
  },
  {
   "cell_type": "code",
   "execution_count": null,
   "id": "dd874334",
   "metadata": {},
   "outputs": [],
   "source": []
  },
  {
   "cell_type": "code",
   "execution_count": null,
   "id": "1ced40df",
   "metadata": {},
   "outputs": [],
   "source": []
  }
 ],
 "metadata": {
  "kernelspec": {
   "display_name": "Python 3",
   "language": "python",
   "name": "python3"
  },
  "language_info": {
   "codemirror_mode": {
    "name": "ipython",
    "version": 3
   },
   "file_extension": ".py",
   "mimetype": "text/x-python",
   "name": "python",
   "nbconvert_exporter": "python",
   "pygments_lexer": "ipython3",
   "version": "3.8.8"
  }
 },
 "nbformat": 4,
 "nbformat_minor": 5
}
